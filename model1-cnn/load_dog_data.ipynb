{
 "cells": [
  {
   "cell_type": "code",
   "execution_count": 3,
   "metadata": {},
   "outputs": [],
   "source": [
    "import numpy as np\n",
    "from numpy import asarray\n",
    "import os\n",
    "import cv2\n",
    "from sklearn.model_selection import train_test_split\n",
    "from sklearn.preprocessing import LabelEncoder\n",
    "import scipy.io as spio\n",
    "import pickle\n",
    "import glob\n",
    "import argparse\n",
    "from PIL import Image\n",
    "import pandas as pd"
   ]
  },
  {
   "cell_type": "code",
   "execution_count": 4,
   "metadata": {},
   "outputs": [],
   "source": [
    "# data paths\n",
    "train_data_dir = r'C:\\Users\\prath\\Downloads\\Machine_Learning\\Dogs\\train'\n",
    "test_data_dir = r'C:\\Users\\prath\\Downloads\\Machine_Learning\\Dogs\\test'\n",
    "val_data_dir = r'C:\\Users\\prath\\Downloads\\Machine_Learning\\Dogs\\valid'\n",
    "csv_path = r'C:\\Users\\prath\\Downloads\\Machine_Learning\\Dogs\\dogs.csv'"
   ]
  },
  {
   "cell_type": "code",
   "execution_count": 5,
   "metadata": {},
   "outputs": [],
   "source": [
    "# create image path array for above dirs\n",
    "def create_image_path_array(path):\n",
    "    folder_paths = [path+'\\\\'+each for each in os.listdir(path)]\n",
    "#     print(len(folder_paths))\n",
    "    classes = [each for each in os.listdir(path)]\n",
    "#     print(classes)\n",
    "    image_paths = []\n",
    "    for folder in folder_paths:\n",
    "        image_paths = image_paths + [folder+'\\\\'+img for img in os.listdir(folder)]\n",
    "    return image_paths"
   ]
  },
  {
   "cell_type": "code",
   "execution_count": 6,
   "metadata": {},
   "outputs": [],
   "source": [
    "# create separate image path arrays for train, test, valid\n",
    "train_image_paths = create_image_path_array(train_data_dir)\n",
    "test_image_paths = create_image_path_array(test_data_dir)\n",
    "val_image_paths = create_image_path_array(val_data_dir)"
   ]
  },
  {
   "cell_type": "code",
   "execution_count": 7,
   "metadata": {},
   "outputs": [],
   "source": [
    "# one hot encoding given csv file with labels and test,train,valid marked\n",
    "def one_hot_encoding(csv_path):\n",
    "    df = pd.read_csv(csv_path)\n",
    "    one_hot = pd.get_dummies(df.labels)\n",
    "    class_names = pd.unique(df['labels'])\n",
    "#     print(class_names)\n",
    "    one_hot = one_hot.iloc[:,:-1]\n",
    "    class_names = pd.unique(df['labels'])\n",
    "    df = df.drop('filepaths', axis = 1).drop('labels', axis = 1).join(one_hot)\n",
    "    ytrain = df[df['data set'] == 'train'].drop('data set', axis = 1).to_numpy()\n",
    "    ytest = df[df['data set'] == 'test'].drop('data set', axis = 1).to_numpy()\n",
    "    yval = df[df['data set'] == 'valid'].drop('data set', axis = 1).to_numpy()\n",
    "    return ytrain, ytest, yval"
   ]
  },
  {
   "cell_type": "code",
   "execution_count": 8,
   "metadata": {},
   "outputs": [],
   "source": [
    "ytrain, ytest, yval = one_hot_encoding(csv_path)"
   ]
  },
  {
   "cell_type": "code",
   "execution_count": 9,
   "metadata": {},
   "outputs": [],
   "source": [
    "# [TO DO]\n",
    "# resize the images or apply some dimensionality reduction technique as needed.\n",
    "# we might also need to do some data augmentation here.\n",
    "def image_processing(image_path_array):\n",
    "    x = []\n",
    "    for image in image_path_array:\n",
    "        img = cv2.imread (image, cv2.IMREAD_COLOR)\n",
    "#         img = cv2.resize(img, (64,64))\n",
    "        x.append(img)\n",
    "    return x"
   ]
  },
  {
   "cell_type": "code",
   "execution_count": 10,
   "metadata": {},
   "outputs": [],
   "source": [
    "xtrain = image_processing(train_image_paths)\n",
    "xtest = image_processing(test_image_paths)\n",
    "xval = image_processing(val_image_paths)"
   ]
  },
  {
   "cell_type": "code",
   "execution_count": 11,
   "metadata": {},
   "outputs": [],
   "source": [
    "# saving this as an npz file just in case it takes too long to run\n",
    "np.savez('Dogs_npz', xtrain, ytrain, xtest, ytest, xval, yval)"
   ]
  },
  {
   "cell_type": "code",
   "execution_count": null,
   "metadata": {},
   "outputs": [],
   "source": []
  }
 ],
 "metadata": {
  "kernelspec": {
   "display_name": "Python 3",
   "language": "python",
   "name": "python3"
  },
  "language_info": {
   "codemirror_mode": {
    "name": "ipython",
    "version": 3
   },
   "file_extension": ".py",
   "mimetype": "text/x-python",
   "name": "python",
   "nbconvert_exporter": "python",
   "pygments_lexer": "ipython3",
   "version": "3.7.9"
  }
 },
 "nbformat": 4,
 "nbformat_minor": 4
}
