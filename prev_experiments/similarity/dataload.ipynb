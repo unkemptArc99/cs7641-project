{
 "cells": [
  {
   "cell_type": "code",
   "execution_count": null,
   "metadata": {},
   "outputs": [],
   "source": [
    "import numpy as np\n",
    "from os import listdir\n",
    "from os.path import isfile, join\n",
    "\n",
    "from PIL import Image\n",
    "from numpy import asarray\n",
    "from numpy import dot\n",
    "from numpy.linalg import norm\n",
    "\n",
    "my_path = '/Project/low-resolution/200-n000008-Airedale/'\n",
    "files = os.listdir(my_path)\n",
    "i=0\n",
    "np_img_list= []\n",
    "for file in files:\n",
    "    if os.path.isfile(os.path.join(my_path, file)):\n",
    "        \n",
    "        img = Image.open(os.path.join(my_path, file))\n",
    "        print(\"img #{}: {}, size{}\".format(i,file, img.size))\n",
    "        #print(\"file name: {}\".format(file))\n",
    "        \n",
    "        np_img = np.array(img)\n",
    "        np_img_list.append(np_img)\n",
    "        print(\"np_img: {} dim: {}\\n\".format(np_img.shape, np_img.ndim))\n",
    "        #print(\"np_img_list: {} \\n\".format(np_img_list))\n",
    "        #print(\"np_img: {} dim: {}\\n\".format(np_img_list[0].shape, np_img_list[0].ndim))\n",
    "        i+=1\n"
   ]
  }
 ],
 "metadata": {
  "language_info": {
   "name": "python"
  },
  "orig_nbformat": 4
 },
 "nbformat": 4,
 "nbformat_minor": 2
}
