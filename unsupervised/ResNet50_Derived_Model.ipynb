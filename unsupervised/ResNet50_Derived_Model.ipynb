{
  "cells": [
    {
      "cell_type": "code",
      "execution_count": 1,
      "metadata": {
        "id": "jMjqAlof8wmp"
      },
      "outputs": [
        {
          "data": {
            "text/plain": [
              "<matplotlib.pyplot._IonContext at 0x7f5e4c3b4370>"
            ]
          },
          "execution_count": 1,
          "metadata": {},
          "output_type": "execute_result"
        }
      ],
      "source": [
        "# License: BSD\n",
        "# Author: Sasank Chilamkurthy\n",
        "\n",
        "from __future__ import print_function, division\n",
        "\n",
        "import torch\n",
        "import torch.nn as nn\n",
        "import torch.optim as optim\n",
        "from torch.optim import lr_scheduler\n",
        "import torch.backends.cudnn as cudnn\n",
        "import numpy as np\n",
        "import torchvision\n",
        "from torchvision import datasets, models, transforms\n",
        "import matplotlib.pyplot as plt\n",
        "import time\n",
        "import os\n",
        "import copy\n",
        "\n",
        "cudnn.benchmark = True\n",
        "plt.ion()   # interactive mode"
      ]
    },
    {
      "cell_type": "code",
      "execution_count": 2,
      "metadata": {
        "colab": {
          "base_uri": "https://localhost:8080/",
          "height": 432
        },
        "id": "0LGes9wG8ziF",
        "outputId": "78911858-050f-4af7-fc54-0863a64e4964"
      },
      "outputs": [],
      "source": [
        "data_transforms = {\n",
        "    'train': transforms.Compose([\n",
        "        transforms.RandomResizedCrop(224),\n",
        "        transforms.RandomHorizontalFlip(),\n",
        "        transforms.ToTensor(),\n",
        "        transforms.Normalize([0.485, 0.456, 0.406], [0.229, 0.224, 0.225])\n",
        "    ]),\n",
        "    'val': transforms.Compose([\n",
        "        transforms.Resize(256),\n",
        "        transforms.CenterCrop(224),\n",
        "        transforms.ToTensor(),\n",
        "        transforms.Normalize([0.485, 0.456, 0.406], [0.229, 0.224, 0.225])\n",
        "    ]),\n",
        "    'test': transforms.Compose([\n",
        "        transforms.Resize(256),\n",
        "        transforms.CenterCrop(224),\n",
        "        transforms.ToTensor(),\n",
        "        transforms.Normalize([0.485, 0.456, 0.406], [0.229, 0.224, 0.225])\n",
        "    ]),\n",
        "}\n",
        "\n",
        "data_dir = '../dataset/split-images-lr'\n",
        "image_datasets = {x: datasets.ImageFolder(os.path.join(data_dir, x),\n",
        "                                          data_transforms[x])\n",
        "                  for x in ['train', 'val', 'test']}\n",
        "dataloaders = {x: torch.utils.data.DataLoader(image_datasets[x], batch_size=4,\n",
        "                                             shuffle=True, num_workers=4)\n",
        "              for x in ['train', 'val', 'test']}\n",
        "dataset_sizes = {x: len(image_datasets[x]) for x in ['train', 'val', 'test']}\n",
        "class_names = image_datasets['train'].classes\n",
        "\n",
        "device = torch.device(\"cuda:0\" if torch.cuda.is_available() else \"cpu\")"
      ]
    },
    {
      "cell_type": "code",
      "execution_count": 3,
      "metadata": {
        "id": "18OFzxFP84Ks"
      },
      "outputs": [],
      "source": [
        "def train_model(model, criterion, optimizer, scheduler, num_epochs=25):\n",
        "    since = time.time()\n",
        "\n",
        "    best_model_wts = copy.deepcopy(model.state_dict())\n",
        "    best_acc = 0.0\n",
        "\n",
        "    train_loss = []\n",
        "    train_acc = []\n",
        "    val_loss = []\n",
        "    val_acc = []\n",
        "\n",
        "    for epoch in range(num_epochs):\n",
        "        print(f'Epoch {epoch}/{num_epochs - 1}')\n",
        "        print('-' * 10)\n",
        "\n",
        "        # Each epoch has a training and validation phase\n",
        "        for phase in ['train', 'val']:\n",
        "            if phase == 'train':\n",
        "                model.train()  # Set model to training mode\n",
        "            else:\n",
        "                model.eval()   # Set model to evaluate mode\n",
        "\n",
        "            running_loss = 0.0\n",
        "            running_corrects = 0\n",
        "\n",
        "            # Iterate over data.\n",
        "            for inputs, labels in dataloaders[phase]:\n",
        "                inputs = inputs.to(device)\n",
        "                labels = labels.to(device)\n",
        "\n",
        "                # zero the parameter gradients\n",
        "                optimizer.zero_grad()\n",
        "\n",
        "                # forward\n",
        "                # track history if only in train\n",
        "                with torch.set_grad_enabled(phase == 'train'):\n",
        "                    outputs = model(inputs)\n",
        "                    _, preds = torch.max(outputs, 1)\n",
        "                    loss = criterion(outputs, labels)\n",
        "\n",
        "                    # backward + optimize only if in training phase\n",
        "                    if phase == 'train':\n",
        "                        loss.backward()\n",
        "                        optimizer.step()\n",
        "\n",
        "                # statistics\n",
        "                running_loss += loss.item() * inputs.size(0)\n",
        "                running_corrects += torch.sum(preds == labels.data)\n",
        "            if phase == 'train':\n",
        "                scheduler.step()\n",
        "\n",
        "            epoch_loss = running_loss / dataset_sizes[phase]\n",
        "            epoch_acc = running_corrects.double() / dataset_sizes[phase]\n",
        "            if phase == 'train':\n",
        "                train_loss.append(epoch_loss)\n",
        "                train_acc.append(epoch_acc)\n",
        "            else:\n",
        "                val_loss.append(epoch_loss)\n",
        "                val_acc.append(epoch_acc)\n",
        "            print(f'{phase} Loss: {epoch_loss:.4f} Acc: {epoch_acc:.4f}')\n",
        "\n",
        "            # deep copy the model\n",
        "            if phase == 'val' and epoch_acc > best_acc:\n",
        "                best_acc = epoch_acc\n",
        "                best_model_wts = copy.deepcopy(model.state_dict())\n",
        "\n",
        "        print()\n",
        "\n",
        "    time_elapsed = time.time() - since\n",
        "    print(f'Training complete in {time_elapsed // 60:.0f}m {time_elapsed % 60:.0f}s')\n",
        "    print(f'Best val Acc: {best_acc:4f}')\n",
        "\n",
        "    # load best model weights\n",
        "    model.load_state_dict(best_model_wts)\n",
        "    return train_loss, train_acc, val_loss, val_acc, model"
      ]
    },
    {
      "cell_type": "code",
      "execution_count": 7,
      "metadata": {
        "id": "KZKueLCH87KW"
      },
      "outputs": [],
      "source": [
        "def visualize_model(model, num_images=6):\n",
        "    was_training = model.training\n",
        "    model.eval()\n",
        "    images_so_far = 0\n",
        "    fig = plt.figure()\n",
        "\n",
        "    with torch.no_grad():\n",
        "        for i, (inputs, labels) in enumerate(dataloaders['val']):\n",
        "            inputs = inputs.to(device)\n",
        "            labels = labels.to(device)\n",
        "\n",
        "            outputs = model(inputs)\n",
        "            _, preds = torch.max(outputs, 1)\n",
        "\n",
        "            for j in range(inputs.size()[0]):\n",
        "                images_so_far += 1\n",
        "                ax = plt.subplot(num_images//2, 2, images_so_far)\n",
        "                ax.axis('off')\n",
        "                ax.set_title(f'predicted: {class_names[preds[j]]}')\n",
        "                imshow(inputs.cpu().data[j])\n",
        "\n",
        "                if images_so_far == num_images:\n",
        "                    model.train(mode=was_training)\n",
        "                    return\n",
        "        model.train(mode=was_training)"
      ]
    },
    {
      "cell_type": "code",
      "execution_count": 8,
      "metadata": {
        "id": "zjQKwoys89Y8"
      },
      "outputs": [],
      "source": [
        "def visualize_model_new(model, num_images=6):\n",
        "    # was_training = model.training\n",
        "    model.eval()\n",
        "    images_so_far = 0\n",
        "    print(num_images)\n",
        "    # fig = plt.figure()\n",
        "\n",
        "    with torch.no_grad():\n",
        "        for i, (inputs, labels) in enumerate(dataloaders['val']):\n",
        "            inputs = inputs.to(device)\n",
        "            labels = labels.to(device)\n",
        "\n",
        "            outputs = model(inputs)\n",
        "            print(outputs.shape)\n",
        "            print(inputs.size())\n",
        "            # _, preds = torch.max(outputs, 1)\n",
        "\n",
        "            for j in range(inputs.size()[0]):\n",
        "                images_so_far += 1\n",
        "                print(images_so_far)\n",
        "                # ax = plt.subplot(num_images//2, 2, images_so_far)\n",
        "                # ax.axis('off')\n",
        "                # ax.set_title(f'predicted: {class_names[preds[j]]}')\n",
        "                # imshow(inputs.cpu().data[j])\n",
        "\n",
        "                if images_so_far == num_images:\n",
        "                    # model.train(mode=was_training)\n",
        "                    return\n",
        "        # model.train(mode=was_training)"
      ]
    },
    {
      "cell_type": "code",
      "execution_count": 4,
      "metadata": {
        "colab": {
          "base_uri": "https://localhost:8080/",
          "height": 284,
          "referenced_widgets": [
            "b4added5f95b4ac1aa7471f33fa1a171",
            "1dd42a42117a42eebdb6c49d5662e429",
            "2fe4c1474577423892a4a38edbb7744d",
            "a9dd43160bdd42ecb0b0cc80f548a4d7",
            "7e0017ac01744418a18f7596624567ff",
            "a0efc36217bc446281d310a9b7e31e2d",
            "412bd0f404ca43bbb421bcbd6882f4fc",
            "17852019abfd4a609c56afe387886ffa",
            "851b618bfbdc42d2b4e9cecda8c92ecb",
            "5158c3cb7c3b4a1abf8c3b87978b2264",
            "5a6dd9f6b0e345e38ce40911b87da4a6"
          ]
        },
        "id": "7iukCkhrDOMq",
        "outputId": "929201f4-6244-4e1a-9e2e-54276458d7fe"
      },
      "outputs": [],
      "source": [
        "model_ft = models.resnet18(pretrained=True)\n",
        "# print(model_ft)\n",
        "num_ftrs = model_ft.fc.in_features\n",
        "# Here the size of each output sample is set to 2.\n",
        "# Alternatively, it can be generalized to nn.Linear(num_ftrs, len(class_names)).\n",
        "model_ft.fc = nn.Linear(num_ftrs, len(class_names))\n",
        "\n",
        "model_ft = model_ft.to(device)\n",
        "\n",
        "criterion = nn.CrossEntropyLoss()\n",
        "\n",
        "# Observe that all parameters are being optimized\n",
        "optimizer_ft = optim.SGD(model_ft.parameters(), lr=0.001, momentum=0.9)\n",
        "\n",
        "# Decay LR by a factor of 0.1 every 7 epochs\n",
        "exp_lr_scheduler = lr_scheduler.StepLR(optimizer_ft, step_size=7, gamma=0.1)"
      ]
    },
    {
      "cell_type": "code",
      "execution_count": 6,
      "metadata": {
        "id": "1AdkN5cLDO9P"
      },
      "outputs": [
        {
          "name": "stdout",
          "output_type": "stream",
          "text": [
            "Epoch 0/24\n",
            "----------\n",
            "train Loss: 1.0611 Acc: 0.6977\n",
            "val Loss: 0.7822 Acc: 0.7745\n",
            "\n",
            "Epoch 1/24\n",
            "----------\n",
            "train Loss: 1.0556 Acc: 0.7002\n",
            "val Loss: 0.7691 Acc: 0.7729\n",
            "\n",
            "Epoch 2/24\n",
            "----------\n",
            "train Loss: 1.0535 Acc: 0.7001\n",
            "val Loss: 0.7739 Acc: 0.7755\n",
            "\n",
            "Epoch 3/24\n",
            "----------\n",
            "train Loss: 1.0556 Acc: 0.6973\n",
            "val Loss: 0.8036 Acc: 0.7735\n",
            "\n",
            "Epoch 4/24\n",
            "----------\n",
            "train Loss: 1.0592 Acc: 0.6989\n",
            "val Loss: 0.7816 Acc: 0.7775\n",
            "\n",
            "Epoch 5/24\n",
            "----------\n",
            "train Loss: 1.0561 Acc: 0.6972\n",
            "val Loss: 0.7739 Acc: 0.7765\n",
            "\n",
            "Epoch 6/24\n",
            "----------\n",
            "train Loss: 1.0615 Acc: 0.6980\n",
            "val Loss: 0.7954 Acc: 0.7766\n",
            "\n",
            "Epoch 7/24\n",
            "----------\n",
            "train Loss: 1.0603 Acc: 0.6967\n",
            "val Loss: 0.7708 Acc: 0.7778\n",
            "\n",
            "Epoch 8/24\n",
            "----------\n",
            "train Loss: 1.0515 Acc: 0.7004\n",
            "val Loss: 0.7809 Acc: 0.7738\n",
            "\n",
            "Epoch 9/24\n",
            "----------\n",
            "train Loss: 1.0476 Acc: 0.6999\n",
            "val Loss: 0.7862 Acc: 0.7782\n",
            "\n",
            "Epoch 10/24\n",
            "----------\n",
            "train Loss: 1.0504 Acc: 0.6989\n",
            "val Loss: 0.7800 Acc: 0.7763\n",
            "\n",
            "Epoch 11/24\n",
            "----------\n",
            "train Loss: 1.0492 Acc: 0.6994\n",
            "val Loss: 0.7821 Acc: 0.7766\n",
            "\n",
            "Epoch 12/24\n",
            "----------\n",
            "train Loss: 1.0502 Acc: 0.7003\n",
            "val Loss: 0.7782 Acc: 0.7743\n",
            "\n",
            "Epoch 13/24\n",
            "----------\n",
            "train Loss: 1.0533 Acc: 0.6980\n",
            "val Loss: 0.7699 Acc: 0.7805\n",
            "\n",
            "Epoch 14/24\n",
            "----------\n",
            "train Loss: 1.0441 Acc: 0.7001\n",
            "val Loss: 0.7883 Acc: 0.7736\n",
            "\n",
            "Epoch 15/24\n",
            "----------\n",
            "train Loss: 1.0450 Acc: 0.7021\n",
            "val Loss: 0.7807 Acc: 0.7760\n",
            "\n",
            "Epoch 16/24\n",
            "----------\n",
            "train Loss: 1.0426 Acc: 0.7025\n",
            "val Loss: 0.7845 Acc: 0.7752\n",
            "\n",
            "Epoch 17/24\n",
            "----------\n",
            "train Loss: 1.0552 Acc: 0.7003\n",
            "val Loss: 0.7808 Acc: 0.7748\n",
            "\n",
            "Epoch 18/24\n",
            "----------\n",
            "train Loss: 1.0552 Acc: 0.6995\n",
            "val Loss: 0.7879 Acc: 0.7769\n",
            "\n",
            "Epoch 19/24\n",
            "----------\n",
            "train Loss: 1.0555 Acc: 0.6984\n",
            "val Loss: 0.7697 Acc: 0.7732\n",
            "\n",
            "Epoch 20/24\n",
            "----------\n",
            "train Loss: 1.0459 Acc: 0.7008\n",
            "val Loss: 0.7807 Acc: 0.7756\n",
            "\n",
            "Epoch 21/24\n",
            "----------\n",
            "train Loss: 1.0587 Acc: 0.6981\n",
            "val Loss: 0.7993 Acc: 0.7765\n",
            "\n",
            "Epoch 22/24\n",
            "----------\n",
            "train Loss: 1.0526 Acc: 0.7007\n",
            "val Loss: 0.7836 Acc: 0.7755\n",
            "\n",
            "Epoch 23/24\n",
            "----------\n",
            "train Loss: 1.0486 Acc: 0.7002\n",
            "val Loss: 0.7709 Acc: 0.7818\n",
            "\n",
            "Epoch 24/24\n",
            "----------\n",
            "train Loss: 1.0583 Acc: 0.6988\n",
            "val Loss: 0.7707 Acc: 0.7773\n",
            "\n",
            "Training complete in 139m 24s\n",
            "Best val Acc: 0.781769\n"
          ]
        }
      ],
      "source": [
        "train_loss, train_acc, val_loss, val_acc, model_ft = train_model(model_ft, criterion, optimizer_ft, exp_lr_scheduler,\n",
        "                       num_epochs=25)"
      ]
    },
    {
      "cell_type": "code",
      "execution_count": 7,
      "metadata": {
        "id": "_H3SvZjam0lY"
      },
      "outputs": [],
      "source": [
        "for i in range(len(train_acc)):\n",
        "    train_acc[i] = train_acc[i].item()\n",
        "    val_acc[i] = val_acc[i].item()"
      ]
    },
    {
      "cell_type": "code",
      "execution_count": 8,
      "metadata": {
        "id": "ewMfxD-0jf9a"
      },
      "outputs": [
        {
          "data": {
            "text/plain": [
              "<matplotlib.legend.Legend at 0x7f5d484bc9a0>"
            ]
          },
          "execution_count": 8,
          "metadata": {},
          "output_type": "execute_result"
        },
        {
          "data": {
            "image/png": "[encoded data removed]",
            "text/plain": [
              "<Figure size 432x288 with 1 Axes>"
            ]
          },
          "metadata": {
            "needs_background": "light"
          },
          "output_type": "display_data"
        }
      ],
      "source": [
        "fig, ax = plt.subplots()\n",
        "x = range(0,25,1)\n",
        "train_list = list(train_acc)\n",
        "val_list = list(val_acc)\n",
        "ax.plot(x, train_list, 'go-', label='Training Accuracy')\n",
        "ax.plot(x, val_list, 'bs-', label='Validation Accuracy')\n",
        "ax.set_title('Accuracies')\n",
        "ax.set_xlabel('Epoch')\n",
        "ax.set_ylabel('Accuracy')\n",
        "ax.legend()"
      ]
    },
    {
      "cell_type": "code",
      "execution_count": 9,
      "metadata": {
        "id": "2Dk-jlyNm68g"
      },
      "outputs": [],
      "source": [
        "model_new = model_ft\n",
        "model_new.fc = nn.Identity()\n",
        "torch.save(model_new.state_dict(), 'model_resnet18.pth')"
      ]
    },
    {
      "cell_type": "code",
      "execution_count": 10,
      "metadata": {
        "id": "lLCuMi9BnLW3"
      },
      "outputs": [],
      "source": [
        "images_all = None\n",
        "labels_all = None\n",
        "for images, labels in dataloaders['test']:\n",
        "    images = images.to(device)\n",
        "    labels = labels.numpy()\n",
        "    if labels_all is None:\n",
        "        labels_all = labels\n",
        "    else:\n",
        "        labels_all = np.concatenate((labels_all, labels))\n",
        "    outputs = model_new(images).detach().cpu().numpy()\n",
        "    if images_all is None:\n",
        "        images_all = outputs\n",
        "    else:\n",
        "        images_all = np.concatenate((images_all, outputs)) "
      ]
    },
    {
      "cell_type": "code",
      "execution_count": 11,
      "metadata": {
        "id": "eOBzMK9IoQdb"
      },
      "outputs": [],
      "source": [
        "from sklearn.cluster import KMeans\n",
        "from sklearn.metrics.cluster import *\n",
        "\n",
        "\n",
        "# def calc_accuracy(orig_labels, pred_labels):\n",
        "#     num_points_orig = []\n",
        "#     num_points_pred = []\n",
        "#     for i in range(np.max(orig_labels)+1):\n",
        "#         num_points_orig.append(np.argwhere(orig_labels==i).shape[0])\n",
        "#     for i in range(np.max(pred_labels)+1):\n",
        "#         num_points_pred.append(np.argwhere(pred_labels==i).shape[0])\n",
        "#     num_points_orig = np.array(num_points_orig)\n",
        "#     num_points_pred = np.array(num_points_pred)\n",
        "#     print(num_points_orig, num_points_pred)\n",
        "#     diff = np.abs(num_points_orig - num_points_pred)\n",
        "#     return np.sum(diff)/np.sum(num_points_orig)"
      ]
    },
    {
      "cell_type": "code",
      "execution_count": 12,
      "metadata": {
        "id": "IwoDqqXkoTmm"
      },
      "outputs": [],
      "source": [
        "kmeans = KMeans(n_clusters=len(class_names)).fit(images_all)\n",
        "accuracy = {}\n",
        "accuracy['normalized_mutual_info_score'] = normalized_mutual_info_score(labels_all, kmeans.labels_)\n",
        "accuracy['rand_score'] = rand_score(labels_all, kmeans.labels_)\n",
        "accuracy['completeness_score'] = completeness_score(labels_all, kmeans.labels_)\n",
        "accuracy['fowlkes_mallows_score'] = fowlkes_mallows_score(labels_all, kmeans.labels_)"
      ]
    },
    {
      "cell_type": "code",
      "execution_count": 13,
      "metadata": {
        "id": "n9PTv6L2ziEu"
      },
      "outputs": [
        {
          "data": {
            "image/png": "[encoded data removed]",
            "text/plain": [
              "<Figure size 432x288 with 1 Axes>"
            ]
          },
          "metadata": {
            "needs_background": "light"
          },
          "output_type": "display_data"
        }
      ],
      "source": [
        "fig, ax = plt.subplots()\n",
        "ax.bar(accuracy.keys(), accuracy.values())\n",
        "ax.tick_params(axis='x', labelrotation=90)"
      ]
    },
    {
      "cell_type": "code",
      "execution_count": 14,
      "metadata": {
        "id": "tKHp4Ny_2aY5"
      },
      "outputs": [
        {
          "name": "stderr",
          "output_type": "stream",
          "text": [
            "Downloading: \"https://download.pytorch.org/models/resnet34-b627a593.pth\" to /home/abhishek/.cache/torch/hub/checkpoints/resnet34-b627a593.pth\n",
            "100.0%\n"
          ]
        },
        {
          "name": "stdout",
          "output_type": "stream",
          "text": [
            "Epoch 0/24\n",
            "----------\n",
            "train Loss: 2.4479 Acc: 0.3890\n",
            "val Loss: 1.5448 Acc: 0.6171\n",
            "\n",
            "Epoch 1/24\n",
            "----------\n",
            "train Loss: 1.9205 Acc: 0.4880\n",
            "val Loss: 1.2294 Acc: 0.6581\n",
            "\n",
            "Epoch 2/24\n",
            "----------\n",
            "train Loss: 1.7469 Acc: 0.5286\n",
            "val Loss: 1.2882 Acc: 0.6760\n",
            "\n",
            "Epoch 3/24\n",
            "----------\n",
            "train Loss: 1.6095 Acc: 0.5585\n",
            "val Loss: 1.2027 Acc: 0.6840\n",
            "\n",
            "Epoch 4/24\n",
            "----------\n",
            "train Loss: 1.5063 Acc: 0.5812\n",
            "val Loss: 1.0649 Acc: 0.7002\n",
            "\n",
            "Epoch 5/24\n",
            "----------\n",
            "train Loss: 1.4210 Acc: 0.6055\n",
            "val Loss: 1.0747 Acc: 0.7109\n",
            "\n",
            "Epoch 6/24\n",
            "----------\n",
            "train Loss: 1.3514 Acc: 0.6180\n",
            "val Loss: 1.0987 Acc: 0.6647\n",
            "\n",
            "Epoch 7/24\n",
            "----------\n",
            "train Loss: 1.0933 Acc: 0.6857\n",
            "val Loss: 0.8032 Acc: 0.7729\n",
            "\n",
            "Epoch 8/24\n",
            "----------\n",
            "train Loss: 1.0226 Acc: 0.7040\n",
            "val Loss: 0.7475 Acc: 0.7851\n",
            "\n",
            "Epoch 9/24\n",
            "----------\n",
            "train Loss: 0.9965 Acc: 0.7120\n",
            "val Loss: 0.7435 Acc: 0.7855\n",
            "\n",
            "Epoch 10/24\n",
            "----------\n",
            "train Loss: 0.9720 Acc: 0.7164\n",
            "val Loss: 0.7403 Acc: 0.7783\n",
            "\n",
            "Epoch 11/24\n",
            "----------\n",
            "train Loss: 0.9588 Acc: 0.7215\n",
            "val Loss: 0.7111 Acc: 0.7898\n",
            "\n",
            "Epoch 12/24\n",
            "----------\n",
            "train Loss: 0.9480 Acc: 0.7235\n",
            "val Loss: 0.7029 Acc: 0.7961\n",
            "\n",
            "Epoch 13/24\n",
            "----------\n",
            "train Loss: 0.9394 Acc: 0.7238\n",
            "val Loss: 0.6985 Acc: 0.7905\n",
            "\n",
            "Epoch 14/24\n",
            "----------\n",
            "train Loss: 0.8997 Acc: 0.7363\n",
            "val Loss: 0.7064 Acc: 0.7955\n",
            "\n",
            "Epoch 15/24\n",
            "----------\n",
            "train Loss: 0.8976 Acc: 0.7355\n",
            "val Loss: 0.6925 Acc: 0.7954\n",
            "\n",
            "Epoch 16/24\n",
            "----------\n",
            "train Loss: 0.8916 Acc: 0.7388\n",
            "val Loss: 0.7170 Acc: 0.7892\n",
            "\n",
            "Epoch 17/24\n",
            "----------\n",
            "train Loss: 0.8992 Acc: 0.7374\n",
            "val Loss: 0.6798 Acc: 0.7985\n",
            "\n",
            "Epoch 18/24\n",
            "----------\n",
            "train Loss: 0.8941 Acc: 0.7386\n",
            "val Loss: 0.6893 Acc: 0.7955\n",
            "\n",
            "Epoch 19/24\n",
            "----------\n",
            "train Loss: 0.8858 Acc: 0.7408\n",
            "val Loss: 0.6979 Acc: 0.7979\n",
            "\n",
            "Epoch 20/24\n",
            "----------\n",
            "train Loss: 0.8849 Acc: 0.7388\n",
            "val Loss: 0.6958 Acc: 0.7919\n",
            "\n",
            "Epoch 21/24\n",
            "----------\n",
            "train Loss: 0.8833 Acc: 0.7402\n",
            "val Loss: 0.6975 Acc: 0.7958\n",
            "\n",
            "Epoch 22/24\n",
            "----------\n",
            "train Loss: 0.8838 Acc: 0.7380\n",
            "val Loss: 0.6988 Acc: 0.7945\n",
            "\n",
            "Epoch 23/24\n",
            "----------\n",
            "train Loss: 0.8908 Acc: 0.7380\n",
            "val Loss: 0.6935 Acc: 0.7984\n",
            "\n",
            "Epoch 24/24\n",
            "----------\n",
            "train Loss: 0.8780 Acc: 0.7402\n",
            "val Loss: 0.6893 Acc: 0.7984\n",
            "\n",
            "Training complete in 215m 52s\n",
            "Best val Acc: 0.798512\n"
          ]
        }
      ],
      "source": [
        "model_ft_34 = models.resnet34(pretrained=True)\n",
        "# print(model_ft)\n",
        "num_ftrs_34 = model_ft_34.fc.in_features\n",
        "# Here the size of each output sample is set to 2.\n",
        "# Alternatively, it can be generalized to nn.Linear(num_ftrs, len(class_names)).\n",
        "model_ft_34.fc = nn.Linear(num_ftrs_34, len(class_names))\n",
        "\n",
        "model_ft_34 = model_ft_34.to(device)\n",
        "\n",
        "criterion = nn.CrossEntropyLoss()\n",
        "\n",
        "# Observe that all parameters are being optimized\n",
        "optimizer_ft_34 = optim.SGD(model_ft_34.parameters(), lr=0.001, momentum=0.9)\n",
        "\n",
        "# Decay LR by a factor of 0.1 every 7 epochs\n",
        "exp_lr_scheduler_34 = lr_scheduler.StepLR(optimizer_ft_34, step_size=7, gamma=0.1)\n",
        "\n",
        "train_loss_34, train_acc_34, val_loss_34, val_acc_34, model_ft_34 = train_model(model_ft_34, criterion, optimizer_ft_34, exp_lr_scheduler_34,\n",
        "                       num_epochs=25)"
      ]
    },
    {
      "cell_type": "code",
      "execution_count": 15,
      "metadata": {
        "id": "Ufm_lQU5JQNb"
      },
      "outputs": [],
      "source": [
        "for i in range(len(train_acc_34)):\n",
        "    train_acc_34[i] = train_acc_34[i].item()\n",
        "    val_acc_34[i] = val_acc_34[i].item()"
      ]
    },
    {
      "cell_type": "code",
      "execution_count": 16,
      "metadata": {
        "id": "DlhvlgIoJg7V"
      },
      "outputs": [
        {
          "data": {
            "text/plain": [
              "<matplotlib.legend.Legend at 0x7f5d492b99a0>"
            ]
          },
          "execution_count": 16,
          "metadata": {},
          "output_type": "execute_result"
        },
        {
          "data": {
            "image/png": "[encoded data removed]",
            "text/plain": [
              "<Figure size 432x288 with 1 Axes>"
            ]
          },
          "metadata": {
            "needs_background": "light"
          },
          "output_type": "display_data"
        }
      ],
      "source": [
        "fig, ax = plt.subplots()\n",
        "x = range(0,25,1)\n",
        "ax.plot(x, train_acc_34, 'go-', label='Training Accuracy')\n",
        "ax.plot(x, val_acc_34, 'bs-', label='Validation Accuracy')\n",
        "ax.set_title('Accuracies')\n",
        "ax.set_xlabel('Epoch')\n",
        "ax.set_ylabel('Accuracy')\n",
        "ax.legend()"
      ]
    },
    {
      "cell_type": "code",
      "execution_count": 17,
      "metadata": {
        "id": "IoNg5HfpJmsb"
      },
      "outputs": [],
      "source": [
        "model_new_34 = model_ft_34\n",
        "model_new_34.fc = nn.Identity()\n",
        "torch.save(model_new_34.state_dict(), 'model_resnet34.pth')"
      ]
    },
    {
      "cell_type": "code",
      "execution_count": 18,
      "metadata": {
        "id": "FOuZIcYvJzin"
      },
      "outputs": [],
      "source": [
        "images_all = None\n",
        "labels_all = None\n",
        "for images, labels in dataloaders['test']:\n",
        "    images = images.to(device)\n",
        "    labels = labels.numpy()\n",
        "    if labels_all is None:\n",
        "        labels_all = labels\n",
        "    else:\n",
        "        labels_all = np.concatenate((labels_all, labels))\n",
        "    outputs = model_new_34(images).detach().cpu().numpy()\n",
        "    if images_all is None:\n",
        "        images_all = outputs\n",
        "    else:\n",
        "        images_all = np.concatenate((images_all, outputs)) "
      ]
    },
    {
      "cell_type": "code",
      "execution_count": 19,
      "metadata": {
        "id": "gl6mwGxGKAQN"
      },
      "outputs": [],
      "source": [
        "kmeans_34 = KMeans(n_clusters=len(class_names)).fit(images_all)\n",
        "accuracy_34 = {}\n",
        "accuracy_34['normalized_mutual_info_score'] = normalized_mutual_info_score(labels_all, kmeans_34.labels_)\n",
        "accuracy_34['rand_score'] = rand_score(labels_all, kmeans_34.labels_)\n",
        "accuracy_34['completeness_score'] = completeness_score(labels_all, kmeans_34.labels_)\n",
        "accuracy_34['fowlkes_mallows_score'] = fowlkes_mallows_score(labels_all, kmeans_34.labels_)"
      ]
    },
    {
      "cell_type": "code",
      "execution_count": 20,
      "metadata": {
        "id": "JwrW0_S2KdNY"
      },
      "outputs": [
        {
          "name": "stdout",
          "output_type": "stream",
          "text": [
            "{'normalized_mutual_info_score': 0.7047528845487739, 'rand_score': 0.9687606039988113, 'completeness_score': 0.6668537731537744, 'fowlkes_mallows_score': 0.36590979562859355}\n"
          ]
        }
      ],
      "source": [
        "print(accuracy_34)"
      ]
    },
    {
      "cell_type": "code",
      "execution_count": 21,
      "metadata": {
        "id": "UBRpdTytKXdj"
      },
      "outputs": [
        {
          "data": {
            "image/png": "[encoded data removed]",
            "text/plain": [
              "<Figure size 432x288 with 1 Axes>"
            ]
          },
          "metadata": {
            "needs_background": "light"
          },
          "output_type": "display_data"
        }
      ],
      "source": [
        "fig, ax = plt.subplots()\n",
        "ax.bar(accuracy_34.keys(), accuracy_34.values())\n",
        "ax.tick_params(axis='x', labelrotation=90)"
      ]
    },
    {
      "cell_type": "code",
      "execution_count": 22,
      "metadata": {
        "id": "AF1WuDNJPibK"
      },
      "outputs": [
        {
          "name": "stderr",
          "output_type": "stream",
          "text": [
            "Downloading: \"https://download.pytorch.org/models/resnet50-0676ba61.pth\" to /home/abhishek/.cache/torch/hub/checkpoints/resnet50-0676ba61.pth\n",
            "100.0%\n"
          ]
        },
        {
          "name": "stdout",
          "output_type": "stream",
          "text": [
            "Epoch 0/24\n",
            "----------\n",
            "train Loss: 2.4214 Acc: 0.3949\n",
            "val Loss: 1.3934 Acc: 0.6241\n",
            "\n",
            "Epoch 1/24\n",
            "----------\n",
            "train Loss: 1.8504 Acc: 0.5032\n",
            "val Loss: 1.3794 Acc: 0.6674\n",
            "\n",
            "Epoch 2/24\n",
            "----------\n",
            "train Loss: 1.6442 Acc: 0.5488\n",
            "val Loss: 1.1760 Acc: 0.6996\n",
            "\n",
            "Epoch 3/24\n",
            "----------\n",
            "train Loss: 1.5222 Acc: 0.5766\n",
            "val Loss: 1.0089 Acc: 0.7188\n",
            "\n",
            "Epoch 4/24\n",
            "----------\n",
            "train Loss: 1.4220 Acc: 0.6006\n",
            "val Loss: 0.9858 Acc: 0.7181\n",
            "\n",
            "Epoch 5/24\n",
            "----------\n",
            "train Loss: 1.3519 Acc: 0.6182\n",
            "val Loss: 0.9756 Acc: 0.7384\n",
            "\n",
            "Epoch 6/24\n",
            "----------\n",
            "train Loss: 1.2875 Acc: 0.6327\n",
            "val Loss: 0.9433 Acc: 0.7307\n",
            "\n",
            "Epoch 7/24\n",
            "----------\n",
            "train Loss: 1.0491 Acc: 0.6965\n",
            "val Loss: 0.7007 Acc: 0.7912\n",
            "\n",
            "Epoch 8/24\n",
            "----------\n",
            "train Loss: 0.9505 Acc: 0.7228\n",
            "val Loss: 0.6965 Acc: 0.7932\n",
            "\n",
            "Epoch 9/24\n",
            "----------\n",
            "train Loss: 0.9429 Acc: 0.7224\n",
            "val Loss: 0.6722 Acc: 0.7971\n",
            "\n",
            "Epoch 10/24\n",
            "----------\n",
            "train Loss: 0.9012 Acc: 0.7317\n",
            "val Loss: 0.6871 Acc: 0.7938\n",
            "\n",
            "Epoch 11/24\n",
            "----------\n",
            "train Loss: 0.8997 Acc: 0.7350\n",
            "val Loss: 0.6950 Acc: 0.7987\n",
            "\n",
            "Epoch 12/24\n",
            "----------\n",
            "train Loss: 0.8845 Acc: 0.7370\n",
            "val Loss: 0.6603 Acc: 0.7984\n",
            "\n",
            "Epoch 13/24\n",
            "----------\n",
            "train Loss: 0.8667 Acc: 0.7413\n",
            "val Loss: 0.6720 Acc: 0.8035\n",
            "\n",
            "Epoch 14/24\n",
            "----------\n",
            "train Loss: 0.8320 Acc: 0.7533\n",
            "val Loss: 0.6620 Acc: 0.8062\n",
            "\n",
            "Epoch 15/24\n",
            "----------\n",
            "train Loss: 0.8312 Acc: 0.7526\n",
            "val Loss: 0.6592 Acc: 0.8081\n",
            "\n",
            "Epoch 16/24\n",
            "----------\n",
            "train Loss: 0.8350 Acc: 0.7508\n",
            "val Loss: 0.6413 Acc: 0.8110\n",
            "\n",
            "Epoch 17/24\n",
            "----------\n",
            "train Loss: 0.8303 Acc: 0.7546\n",
            "val Loss: 0.6529 Acc: 0.8044\n",
            "\n",
            "Epoch 18/24\n",
            "----------\n",
            "train Loss: 0.8259 Acc: 0.7551\n",
            "val Loss: 0.6478 Acc: 0.8108\n",
            "\n",
            "Epoch 19/24\n",
            "----------\n",
            "train Loss: 0.8246 Acc: 0.7538\n",
            "val Loss: 0.6277 Acc: 0.8061\n",
            "\n",
            "Epoch 20/24\n",
            "----------\n",
            "train Loss: 0.8200 Acc: 0.7561\n",
            "val Loss: 0.6427 Acc: 0.8094\n",
            "\n",
            "Epoch 21/24\n",
            "----------\n",
            "train Loss: 0.8144 Acc: 0.7560\n",
            "val Loss: 0.6530 Acc: 0.8071\n",
            "\n",
            "Epoch 22/24\n",
            "----------\n",
            "train Loss: 0.8195 Acc: 0.7561\n",
            "val Loss: 0.6440 Acc: 0.8091\n",
            "\n",
            "Epoch 23/24\n",
            "----------\n",
            "train Loss: 0.8149 Acc: 0.7563\n",
            "val Loss: 0.6595 Acc: 0.8084\n",
            "\n",
            "Epoch 24/24\n",
            "----------\n",
            "train Loss: 0.8149 Acc: 0.7572\n",
            "val Loss: 0.6368 Acc: 0.8115\n",
            "\n",
            "Training complete in 344m 31s\n",
            "Best val Acc: 0.811534\n"
          ]
        }
      ],
      "source": [
        "model_ft_50 = models.resnet50(pretrained=True)\n",
        "# print(model_ft)\n",
        "num_ftrs_50 = model_ft_50.fc.in_features\n",
        "# Here the size of each output sample is set to 2.\n",
        "# Alternatively, it can be generalized to nn.Linear(num_ftrs, len(class_names)).\n",
        "model_ft_50.fc = nn.Linear(num_ftrs_50, len(class_names))\n",
        "\n",
        "model_ft_50 = model_ft_50.to(device)\n",
        "\n",
        "criterion = nn.CrossEntropyLoss()\n",
        "\n",
        "# Observe that all parameters are being optimized\n",
        "optimizer_ft_50 = optim.SGD(model_ft_50.parameters(), lr=0.001, momentum=0.9)\n",
        "\n",
        "# Decay LR by a factor of 0.1 every 7 epochs\n",
        "exp_lr_scheduler_50 = lr_scheduler.StepLR(optimizer_ft_50, step_size=7, gamma=0.1)\n",
        "\n",
        "train_loss_50, train_acc_50, val_loss_50, val_acc_50, model_ft_50 = train_model(model_ft_50, criterion, optimizer_ft_50, exp_lr_scheduler_50,\n",
        "                       num_epochs=25)"
      ]
    },
    {
      "cell_type": "code",
      "execution_count": 23,
      "metadata": {
        "id": "lFTpxcfpPibL"
      },
      "outputs": [],
      "source": [
        "for i in range(len(train_acc_50)):\n",
        "    train_acc_50[i] = train_acc_50[i].item()\n",
        "    val_acc_50[i] = val_acc_50[i].item()"
      ]
    },
    {
      "cell_type": "code",
      "execution_count": 24,
      "metadata": {
        "id": "NKFalBSDPibM"
      },
      "outputs": [
        {
          "data": {
            "text/plain": [
              "<matplotlib.legend.Legend at 0x7f5cf9116190>"
            ]
          },
          "execution_count": 24,
          "metadata": {},
          "output_type": "execute_result"
        },
        {
          "data": {
            "image/png": "[encoded data removed]",
            "text/plain": [
              "<Figure size 432x288 with 1 Axes>"
            ]
          },
          "metadata": {
            "needs_background": "light"
          },
          "output_type": "display_data"
        }
      ],
      "source": [
        "fig, ax = plt.subplots()\n",
        "x = range(0,25,1)\n",
        "ax.plot(x, train_acc_50, 'go-', label='Training Accuracy')\n",
        "ax.plot(x, val_acc_50, 'bs-', label='Validation Accuracy')\n",
        "ax.set_title('Accuracies')\n",
        "ax.set_xlabel('Epoch')\n",
        "ax.set_ylabel('Accuracy')\n",
        "ax.legend()"
      ]
    },
    {
      "cell_type": "code",
      "execution_count": 25,
      "metadata": {
        "id": "IfPq3DQUPibM"
      },
      "outputs": [],
      "source": [
        "model_new_50 = model_ft_50\n",
        "model_new_50.fc = nn.Identity()\n",
        "torch.save(model_new_50.state_dict(), 'model_resnet50.pth')"
      ]
    },
    {
      "cell_type": "code",
      "execution_count": 26,
      "metadata": {
        "id": "lpcjfWjAPibN"
      },
      "outputs": [],
      "source": [
        "images_all = None\n",
        "labels_all = None\n",
        "for images, labels in dataloaders['test']:\n",
        "    images = images.to(device)\n",
        "    labels = labels.numpy()\n",
        "    if labels_all is None:\n",
        "        labels_all = labels\n",
        "    else:\n",
        "        labels_all = np.concatenate((labels_all, labels))\n",
        "    outputs = model_new_50(images).detach().cpu().numpy()\n",
        "    if images_all is None:\n",
        "        images_all = outputs\n",
        "    else:\n",
        "        images_all = np.concatenate((images_all, outputs)) "
      ]
    },
    {
      "cell_type": "code",
      "execution_count": 27,
      "metadata": {
        "id": "1vqvdofQPibN"
      },
      "outputs": [],
      "source": [
        "kmeans_50 = KMeans(n_clusters=len(class_names)).fit(images_all)\n",
        "accuracy_50 = {}\n",
        "accuracy_50['normalized_mutual_info_score'] = normalized_mutual_info_score(labels_all, kmeans_50.labels_)\n",
        "accuracy_50['rand_score'] = rand_score(labels_all, kmeans_50.labels_)\n",
        "accuracy_50['completeness_score'] = completeness_score(labels_all, kmeans_50.labels_)\n",
        "accuracy_50['fowlkes_mallows_score'] = fowlkes_mallows_score(labels_all, kmeans_50.labels_)"
      ]
    },
    {
      "cell_type": "code",
      "execution_count": 28,
      "metadata": {
        "id": "qVGYyUaXPibN"
      },
      "outputs": [
        {
          "name": "stdout",
          "output_type": "stream",
          "text": [
            "{'normalized_mutual_info_score': 0.7191367409403486, 'rand_score': 0.9695212765002175, 'completeness_score': 0.6813601730565058, 'fowlkes_mallows_score': 0.38875226990527983}\n"
          ]
        }
      ],
      "source": [
        "print(accuracy_50)"
      ]
    },
    {
      "cell_type": "code",
      "execution_count": 29,
      "metadata": {
        "id": "5TrlVsegPibN"
      },
      "outputs": [
        {
          "data": {
            "image/png": "[encoded data removed]",
            "text/plain": [
              "<Figure size 432x288 with 1 Axes>"
            ]
          },
          "metadata": {
            "needs_background": "light"
          },
          "output_type": "display_data"
        }
      ],
      "source": [
        "fig, ax = plt.subplots()\n",
        "ax.bar(accuracy_50.keys(), accuracy_50.values())\n",
        "ax.tick_params(axis='x', labelrotation=90)"
      ]
    },
    {
      "cell_type": "code",
      "execution_count": 41,
      "metadata": {},
      "outputs": [
        {
          "data": {
            "image/png": "[encoded data removed]",
            "text/plain": [
              "<Figure size 432x288 with 1 Axes>"
            ]
          },
          "metadata": {},
          "output_type": "display_data"
        }
      ],
      "source": [
        "labels = ['resnet18', 'resnet34', 'resnet50']\n",
        "normal = [accuracy['normalized_mutual_info_score'], accuracy_34['normalized_mutual_info_score'], accuracy_50['normalized_mutual_info_score']]\n",
        "rand = [accuracy['rand_score'], accuracy_34['rand_score'], accuracy_50['rand_score']]\n",
        "complete = [accuracy['completeness_score'], accuracy_34['completeness_score'], accuracy_50['completeness_score']]\n",
        "fowlkes = [accuracy['fowlkes_mallows_score'], accuracy_34['fowlkes_mallows_score'], accuracy_50['fowlkes_mallows_score']]\n",
        "x = np.arange(len(labels))\n",
        "width=0.2\n",
        "fig, ax = plt.subplots()\n",
        "rects1 = ax.bar(x-3*width/2, normal, width, label='Normalized Mutual Info Score')\n",
        "rects2 = ax.bar(x-width/2, rand, width, label='Rand Index')\n",
        "rects3 = ax.bar(x+width/2, complete, width, label='Completeness Score')\n",
        "rects4 = ax.bar(x+3*width/2, fowlkes, width, label='Fowlkes Mallow Score')\n",
        "ax.set_ylabel('Score')\n",
        "ax.set_xlabel('Base Model')\n",
        "ax.set_title('KMeans Performance Metrics using Resnet Models for Feature Extraction')\n",
        "\n",
        "ax.bar_label(rects1, padding=1, fmt='%.2f')\n",
        "ax.bar_label(rects2, padding=1, fmt='%.2f')\n",
        "ax.bar_label(rects3, padding=1, fmt='%.2f')\n",
        "ax.bar_label(rects4, padding=1, fmt='%.2f')\n",
        "ax.legend(bbox_to_anchor=(1.04,1), loc=\"upper left\")\n",
        "ax.set_xticks(x, labels)\n",
        "fig.patch.set_facecolor('white')"
      ]
    },
    {
      "cell_type": "code",
      "execution_count": 42,
      "metadata": {},
      "outputs": [
        {
          "ename": "Error",
          "evalue": "Canceled future for execute_request message before replies were done",
          "output_type": "error",
          "traceback": [
            "Error: Canceled future for execute_request message before replies were done",
            "at t.KernelShellFutureHandler.dispose (/home/abhishek/.vscode/extensions/ms-toolsai.jupyter-2022.3.1000901801/out/extension.js:2:1204175)",
            "at /home/abhishek/.vscode/extensions/ms-toolsai.jupyter-2022.3.1000901801/out/extension.js:2:1223227",
            "at Map.forEach (<anonymous>)",
            "at v._clearKernelState (/home/abhishek/.vscode/extensions/ms-toolsai.jupyter-2022.3.1000901801/out/extension.js:2:1223212)",
            "at v.dispose (/home/abhishek/.vscode/extensions/ms-toolsai.jupyter-2022.3.1000901801/out/extension.js:2:1216694)",
            "at /home/abhishek/.vscode/extensions/ms-toolsai.jupyter-2022.3.1000901801/out/extension.js:2:533674",
            "at t.swallowExceptions (/home/abhishek/.vscode/extensions/ms-toolsai.jupyter-2022.3.1000901801/out/extension.js:2:913059)",
            "at dispose (/home/abhishek/.vscode/extensions/ms-toolsai.jupyter-2022.3.1000901801/out/extension.js:2:533652)",
            "at t.RawSession.dispose (/home/abhishek/.vscode/extensions/ms-toolsai.jupyter-2022.3.1000901801/out/extension.js:2:537330)",
            "at runMicrotasks (<anonymous>)",
            "at processTicksAndRejections (node:internal/process/task_queues:96:5)"
          ]
        }
      ],
      "source": [
        "from sklearn.mixture import GaussianMixture\n",
        "\n",
        "gm = GaussianMixture(n_components=len(class_names)).fit(images_all)\n",
        "print(gm.weights_)"
      ]
    }
  ],
  "metadata": {
    "accelerator": "GPU",
    "colab": {
      "collapsed_sections": [],
      "name": "Copy of ResNet50_Derived_Model.ipynb",
      "provenance": []
    },
    "kernelspec": {
      "display_name": "Python 3",
      "name": "python3"
    },
    "language_info": {
      "codemirror_mode": {
        "name": "ipython",
        "version": 3
      },
      "file_extension": ".py",
      "mimetype": "text/x-python",
      "name": "python",
      "nbconvert_exporter": "python",
      "pygments_lexer": "ipython3",
      "version": "3.9.12"
    },
    "widgets": {
      "application/vnd.jupyter.widget-state+json": {
        "17852019abfd4a609c56afe387886ffa": {
          "model_module": "@jupyter-widgets/base",
          "model_module_version": "1.2.0",
          "model_name": "LayoutModel",
          "state": {
            "_model_module": "@jupyter-widgets/base",
            "_model_module_version": "1.2.0",
            "_model_name": "LayoutModel",
            "_view_count": null,
            "_view_module": "@jupyter-widgets/base",
            "_view_module_version": "1.2.0",
            "_view_name": "LayoutView",
            "align_content": null,
            "align_items": null,
            "align_self": null,
            "border": null,
            "bottom": null,
            "display": null,
            "flex": null,
            "flex_flow": null,
            "grid_area": null,
            "grid_auto_columns": null,
            "grid_auto_flow": null,
            "grid_auto_rows": null,
            "grid_column": null,
            "grid_gap": null,
            "grid_row": null,
            "grid_template_areas": null,
            "grid_template_columns": null,
            "grid_template_rows": null,
            "height": null,
            "justify_content": null,
            "justify_items": null,
            "left": null,
            "margin": null,
            "max_height": null,
            "max_width": null,
            "min_height": null,
            "min_width": null,
            "object_fit": null,
            "object_position": null,
            "order": null,
            "overflow": null,
            "overflow_x": null,
            "overflow_y": null,
            "padding": null,
            "right": null,
            "top": null,
            "visibility": null,
            "width": null
          }
        },
        "1dd42a42117a42eebdb6c49d5662e429": {
          "model_module": "@jupyter-widgets/controls",
          "model_module_version": "1.5.0",
          "model_name": "HTMLModel",
          "state": {
            "_dom_classes": [],
            "_model_module": "@jupyter-widgets/controls",
            "_model_module_version": "1.5.0",
            "_model_name": "HTMLModel",
            "_view_count": null,
            "_view_module": "@jupyter-widgets/controls",
            "_view_module_version": "1.5.0",
            "_view_name": "HTMLView",
            "description": "",
            "description_tooltip": null,
            "layout": "IPY_MODEL_a0efc36217bc446281d310a9b7e31e2d",
            "placeholder": "​",
            "style": "IPY_MODEL_412bd0f404ca43bbb421bcbd6882f4fc",
            "value": "100%"
          }
        },
        "2fe4c1474577423892a4a38edbb7744d": {
          "model_module": "@jupyter-widgets/controls",
          "model_module_version": "1.5.0",
          "model_name": "FloatProgressModel",
          "state": {
            "_dom_classes": [],
            "_model_module": "@jupyter-widgets/controls",
            "_model_module_version": "1.5.0",
            "_model_name": "FloatProgressModel",
            "_view_count": null,
            "_view_module": "@jupyter-widgets/controls",
            "_view_module_version": "1.5.0",
            "_view_name": "ProgressView",
            "bar_style": "success",
            "description": "",
            "description_tooltip": null,
            "layout": "IPY_MODEL_17852019abfd4a609c56afe387886ffa",
            "max": 46830571,
            "min": 0,
            "orientation": "horizontal",
            "style": "IPY_MODEL_851b618bfbdc42d2b4e9cecda8c92ecb",
            "value": 46830571
          }
        },
        "412bd0f404ca43bbb421bcbd6882f4fc": {
          "model_module": "@jupyter-widgets/controls",
          "model_module_version": "1.5.0",
          "model_name": "DescriptionStyleModel",
          "state": {
            "_model_module": "@jupyter-widgets/controls",
            "_model_module_version": "1.5.0",
            "_model_name": "DescriptionStyleModel",
            "_view_count": null,
            "_view_module": "@jupyter-widgets/base",
            "_view_module_version": "1.2.0",
            "_view_name": "StyleView",
            "description_width": ""
          }
        },
        "5158c3cb7c3b4a1abf8c3b87978b2264": {
          "model_module": "@jupyter-widgets/base",
          "model_module_version": "1.2.0",
          "model_name": "LayoutModel",
          "state": {
            "_model_module": "@jupyter-widgets/base",
            "_model_module_version": "1.2.0",
            "_model_name": "LayoutModel",
            "_view_count": null,
            "_view_module": "@jupyter-widgets/base",
            "_view_module_version": "1.2.0",
            "_view_name": "LayoutView",
            "align_content": null,
            "align_items": null,
            "align_self": null,
            "border": null,
            "bottom": null,
            "display": null,
            "flex": null,
            "flex_flow": null,
            "grid_area": null,
            "grid_auto_columns": null,
            "grid_auto_flow": null,
            "grid_auto_rows": null,
            "grid_column": null,
            "grid_gap": null,
            "grid_row": null,
            "grid_template_areas": null,
            "grid_template_columns": null,
            "grid_template_rows": null,
            "height": null,
            "justify_content": null,
            "justify_items": null,
            "left": null,
            "margin": null,
            "max_height": null,
            "max_width": null,
            "min_height": null,
            "min_width": null,
            "object_fit": null,
            "object_position": null,
            "order": null,
            "overflow": null,
            "overflow_x": null,
            "overflow_y": null,
            "padding": null,
            "right": null,
            "top": null,
            "visibility": null,
            "width": null
          }
        },
        "5a6dd9f6b0e345e38ce40911b87da4a6": {
          "model_module": "@jupyter-widgets/controls",
          "model_module_version": "1.5.0",
          "model_name": "DescriptionStyleModel",
          "state": {
            "_model_module": "@jupyter-widgets/controls",
            "_model_module_version": "1.5.0",
            "_model_name": "DescriptionStyleModel",
            "_view_count": null,
            "_view_module": "@jupyter-widgets/base",
            "_view_module_version": "1.2.0",
            "_view_name": "StyleView",
            "description_width": ""
          }
        },
        "7e0017ac01744418a18f7596624567ff": {
          "model_module": "@jupyter-widgets/base",
          "model_module_version": "1.2.0",
          "model_name": "LayoutModel",
          "state": {
            "_model_module": "@jupyter-widgets/base",
            "_model_module_version": "1.2.0",
            "_model_name": "LayoutModel",
            "_view_count": null,
            "_view_module": "@jupyter-widgets/base",
            "_view_module_version": "1.2.0",
            "_view_name": "LayoutView",
            "align_content": null,
            "align_items": null,
            "align_self": null,
            "border": null,
            "bottom": null,
            "display": null,
            "flex": null,
            "flex_flow": null,
            "grid_area": null,
            "grid_auto_columns": null,
            "grid_auto_flow": null,
            "grid_auto_rows": null,
            "grid_column": null,
            "grid_gap": null,
            "grid_row": null,
            "grid_template_areas": null,
            "grid_template_columns": null,
            "grid_template_rows": null,
            "height": null,
            "justify_content": null,
            "justify_items": null,
            "left": null,
            "margin": null,
            "max_height": null,
            "max_width": null,
            "min_height": null,
            "min_width": null,
            "object_fit": null,
            "object_position": null,
            "order": null,
            "overflow": null,
            "overflow_x": null,
            "overflow_y": null,
            "padding": null,
            "right": null,
            "top": null,
            "visibility": null,
            "width": null
          }
        },
        "851b618bfbdc42d2b4e9cecda8c92ecb": {
          "model_module": "@jupyter-widgets/controls",
          "model_module_version": "1.5.0",
          "model_name": "ProgressStyleModel",
          "state": {
            "_model_module": "@jupyter-widgets/controls",
            "_model_module_version": "1.5.0",
            "_model_name": "ProgressStyleModel",
            "_view_count": null,
            "_view_module": "@jupyter-widgets/base",
            "_view_module_version": "1.2.0",
            "_view_name": "StyleView",
            "bar_color": null,
            "description_width": ""
          }
        },
        "a0efc36217bc446281d310a9b7e31e2d": {
          "model_module": "@jupyter-widgets/base",
          "model_module_version": "1.2.0",
          "model_name": "LayoutModel",
          "state": {
            "_model_module": "@jupyter-widgets/base",
            "_model_module_version": "1.2.0",
            "_model_name": "LayoutModel",
            "_view_count": null,
            "_view_module": "@jupyter-widgets/base",
            "_view_module_version": "1.2.0",
            "_view_name": "LayoutView",
            "align_content": null,
            "align_items": null,
            "align_self": null,
            "border": null,
            "bottom": null,
            "display": null,
            "flex": null,
            "flex_flow": null,
            "grid_area": null,
            "grid_auto_columns": null,
            "grid_auto_flow": null,
            "grid_auto_rows": null,
            "grid_column": null,
            "grid_gap": null,
            "grid_row": null,
            "grid_template_areas": null,
            "grid_template_columns": null,
            "grid_template_rows": null,
            "height": null,
            "justify_content": null,
            "justify_items": null,
            "left": null,
            "margin": null,
            "max_height": null,
            "max_width": null,
            "min_height": null,
            "min_width": null,
            "object_fit": null,
            "object_position": null,
            "order": null,
            "overflow": null,
            "overflow_x": null,
            "overflow_y": null,
            "padding": null,
            "right": null,
            "top": null,
            "visibility": null,
            "width": null
          }
        },
        "a9dd43160bdd42ecb0b0cc80f548a4d7": {
          "model_module": "@jupyter-widgets/controls",
          "model_module_version": "1.5.0",
          "model_name": "HTMLModel",
          "state": {
            "_dom_classes": [],
            "_model_module": "@jupyter-widgets/controls",
            "_model_module_version": "1.5.0",
            "_model_name": "HTMLModel",
            "_view_count": null,
            "_view_module": "@jupyter-widgets/controls",
            "_view_module_version": "1.5.0",
            "_view_name": "HTMLView",
            "description": "",
            "description_tooltip": null,
            "layout": "IPY_MODEL_5158c3cb7c3b4a1abf8c3b87978b2264",
            "placeholder": "​",
            "style": "IPY_MODEL_5a6dd9f6b0e345e38ce40911b87da4a6",
            "value": " 44.7M/44.7M [00:00&lt;00:00, 66.5MB/s]"
          }
        },
        "b4added5f95b4ac1aa7471f33fa1a171": {
          "model_module": "@jupyter-widgets/controls",
          "model_module_version": "1.5.0",
          "model_name": "HBoxModel",
          "state": {
            "_dom_classes": [],
            "_model_module": "@jupyter-widgets/controls",
            "_model_module_version": "1.5.0",
            "_model_name": "HBoxModel",
            "_view_count": null,
            "_view_module": "@jupyter-widgets/controls",
            "_view_module_version": "1.5.0",
            "_view_name": "HBoxView",
            "box_style": "",
            "children": [
              "IPY_MODEL_1dd42a42117a42eebdb6c49d5662e429",
              "IPY_MODEL_2fe4c1474577423892a4a38edbb7744d",
              "IPY_MODEL_a9dd43160bdd42ecb0b0cc80f548a4d7"
            ],
            "layout": "IPY_MODEL_7e0017ac01744418a18f7596624567ff"
          }
        }
      }
    }
  },
  "nbformat": 4,
  "nbformat_minor": 0
}
