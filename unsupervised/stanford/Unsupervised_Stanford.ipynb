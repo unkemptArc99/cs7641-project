{
 "cells": [
  {
   "cell_type": "code",
   "execution_count": 1,
   "metadata": {},
   "outputs": [],
   "source": [
    "import cv2\n",
    "import imageio\n",
    "import json\n",
    "from matplotlib import pyplot as plt\n",
    "import numpy as np\n",
    "import os\n",
    "from PIL import Image\n",
    "from skimage.transform import resize\n",
    "import sys\n",
    "import tarfile\n",
    "# from torchvision import transforms\n",
    "# import torch\n",
    "import xml.etree.ElementTree as ET\n",
    "from zipfile import ZipFile"
   ]
  },
  {
   "cell_type": "code",
   "execution_count": 3,
   "metadata": {},
   "outputs": [],
   "source": [
    "code_folder = os.getcwd()\n",
    "annotation_folder = os.path.join(code_folder,'../../dataset/Stanford/Annotation')\n",
    "images_folder = os.path.join(code_folder,'../../dataset/Stanford/Images')"
   ]
  },
  {
   "cell_type": "code",
   "execution_count": 5,
   "metadata": {},
   "outputs": [],
   "source": [
    "size_x = []\n",
    "size_y = []\n",
    "\n",
    "for breed in sorted(os.listdir(annotation_folder)):\n",
    "  for dog in sorted(os.listdir(os.path.join(annotation_folder, breed))):\n",
    "    with open(os.path.join(annotation_folder, breed, dog), 'r') as f:\n",
    "      tree = ET.parse(f)\n",
    "      root = tree.getroot()\n",
    "      size_x.append(int(root.find('size/width').text))\n",
    "      size_y.append(int(root.find('size/height').text))"
   ]
  },
  {
   "cell_type": "code",
   "execution_count": 8,
   "metadata": {},
   "outputs": [],
   "source": [
    "intra_breed_error = {}\n",
    "breed_error_mean_values = []\n",
    "\n",
    "def calc_ssq_diff(a,b):\n",
    "  ssq = np.sum(np.square(a-b))\n",
    "  a2 = np.sum(np.square(a))\n",
    "  b2 = np.sum(np.square(b))\n",
    "  return ssq / np.sqrt(a2 * b2)\n",
    "\n",
    "def calc_diff_intra_breed(a):\n",
    "  result = np.zeros((a.shape[0],a.shape[0]))\n",
    "  for i in range(a.shape[0]):\n",
    "    for j in range(i+1, a.shape[0], 1):\n",
    "      result[i][j] = calc_ssq_diff(a[i],a[j])\n",
    "  return result\n",
    "\n",
    "def calc_diff_numpy_intra_breed(a):\n",
    "  diff_squared = np.square(a[:,np.newaxis,:,:,:]-a[np.newaxis,:,:,:,:])\n",
    "  ssq = np.sum(diff_squared, axis=(2,3,4))\n",
    "  a_sq_sum = np.sum(np.square(a), axis=(1,2,3))\n",
    "  normalizing_terms = np.sqrt(a_sq_sum[:,np.newaxis] * a_sq_sum[np.newaxis,:])\n",
    "  normalized_ssq = ssq / normalizing_terms\n",
    "  return normalized_ssq"
   ]
  },
  {
   "cell_type": "code",
   "execution_count": 9,
   "metadata": {},
   "outputs": [
    {
     "ename": "MemoryError",
     "evalue": "Unable to allocate 129. GiB for an array with shape (152, 152, 500, 500, 3) and data type float64",
     "output_type": "error",
     "traceback": [
      "\u001b[0;31m---------------------------------------------------------------------------\u001b[0m",
      "\u001b[0;31mMemoryError\u001b[0m                               Traceback (most recent call last)",
      "\u001b[0;32m/tmp/ipykernel_16040/1993789595.py\u001b[0m in \u001b[0;36m<module>\u001b[0;34m\u001b[0m\n\u001b[1;32m      7\u001b[0m     \u001b[0mi\u001b[0m \u001b[0;34m+=\u001b[0m \u001b[0;36m1\u001b[0m\u001b[0;34m\u001b[0m\u001b[0;34m\u001b[0m\u001b[0m\n\u001b[1;32m      8\u001b[0m   \u001b[0;31m# intra_breed_error[breed] = calc_diff_intra_breed(breed_imgs)\u001b[0m\u001b[0;34m\u001b[0m\u001b[0;34m\u001b[0m\u001b[0;34m\u001b[0m\u001b[0m\n\u001b[0;32m----> 9\u001b[0;31m   \u001b[0mintra_breed_error\u001b[0m\u001b[0;34m[\u001b[0m\u001b[0mbreed\u001b[0m\u001b[0;34m]\u001b[0m \u001b[0;34m=\u001b[0m \u001b[0mcalc_diff_numpy_intra_breed\u001b[0m\u001b[0;34m(\u001b[0m\u001b[0mbreed_imgs\u001b[0m\u001b[0;34m)\u001b[0m\u001b[0;34m\u001b[0m\u001b[0;34m\u001b[0m\u001b[0m\n\u001b[0m\u001b[1;32m     10\u001b[0m   \u001b[0merror_values\u001b[0m \u001b[0;34m=\u001b[0m \u001b[0mintra_breed_error\u001b[0m\u001b[0;34m[\u001b[0m\u001b[0mbreed\u001b[0m\u001b[0;34m]\u001b[0m\u001b[0;34m[\u001b[0m\u001b[0mnp\u001b[0m\u001b[0;34m.\u001b[0m\u001b[0mtriu_indices\u001b[0m\u001b[0;34m(\u001b[0m\u001b[0mintra_breed_error\u001b[0m\u001b[0;34m[\u001b[0m\u001b[0mbreed\u001b[0m\u001b[0;34m]\u001b[0m\u001b[0;34m.\u001b[0m\u001b[0mshape\u001b[0m\u001b[0;34m[\u001b[0m\u001b[0;36m0\u001b[0m\u001b[0;34m]\u001b[0m\u001b[0;34m,\u001b[0m \u001b[0mk\u001b[0m \u001b[0;34m=\u001b[0m \u001b[0;36m0\u001b[0m\u001b[0;34m)\u001b[0m\u001b[0;34m]\u001b[0m\u001b[0;34m\u001b[0m\u001b[0;34m\u001b[0m\u001b[0m\n\u001b[1;32m     11\u001b[0m   \u001b[0mfig\u001b[0m\u001b[0;34m,\u001b[0m \u001b[0max\u001b[0m \u001b[0;34m=\u001b[0m \u001b[0mplt\u001b[0m\u001b[0;34m.\u001b[0m\u001b[0msubplots\u001b[0m\u001b[0;34m(\u001b[0m\u001b[0;34m)\u001b[0m\u001b[0;34m\u001b[0m\u001b[0;34m\u001b[0m\u001b[0m\n",
      "\u001b[0;32m/tmp/ipykernel_16040/2143552075.py\u001b[0m in \u001b[0;36mcalc_diff_numpy_intra_breed\u001b[0;34m(a)\u001b[0m\n\u001b[1;32m     16\u001b[0m \u001b[0;34m\u001b[0m\u001b[0m\n\u001b[1;32m     17\u001b[0m \u001b[0;32mdef\u001b[0m \u001b[0mcalc_diff_numpy_intra_breed\u001b[0m\u001b[0;34m(\u001b[0m\u001b[0ma\u001b[0m\u001b[0;34m)\u001b[0m\u001b[0;34m:\u001b[0m\u001b[0;34m\u001b[0m\u001b[0;34m\u001b[0m\u001b[0m\n\u001b[0;32m---> 18\u001b[0;31m   \u001b[0mdiff_squared\u001b[0m \u001b[0;34m=\u001b[0m \u001b[0mnp\u001b[0m\u001b[0;34m.\u001b[0m\u001b[0msquare\u001b[0m\u001b[0;34m(\u001b[0m\u001b[0ma\u001b[0m\u001b[0;34m[\u001b[0m\u001b[0;34m:\u001b[0m\u001b[0;34m,\u001b[0m\u001b[0mnp\u001b[0m\u001b[0;34m.\u001b[0m\u001b[0mnewaxis\u001b[0m\u001b[0;34m,\u001b[0m\u001b[0;34m:\u001b[0m\u001b[0;34m,\u001b[0m\u001b[0;34m:\u001b[0m\u001b[0;34m,\u001b[0m\u001b[0;34m:\u001b[0m\u001b[0;34m]\u001b[0m\u001b[0;34m-\u001b[0m\u001b[0ma\u001b[0m\u001b[0;34m[\u001b[0m\u001b[0mnp\u001b[0m\u001b[0;34m.\u001b[0m\u001b[0mnewaxis\u001b[0m\u001b[0;34m,\u001b[0m\u001b[0;34m:\u001b[0m\u001b[0;34m,\u001b[0m\u001b[0;34m:\u001b[0m\u001b[0;34m,\u001b[0m\u001b[0;34m:\u001b[0m\u001b[0;34m,\u001b[0m\u001b[0;34m:\u001b[0m\u001b[0;34m]\u001b[0m\u001b[0;34m)\u001b[0m\u001b[0;34m\u001b[0m\u001b[0;34m\u001b[0m\u001b[0m\n\u001b[0m\u001b[1;32m     19\u001b[0m   \u001b[0mssq\u001b[0m \u001b[0;34m=\u001b[0m \u001b[0mnp\u001b[0m\u001b[0;34m.\u001b[0m\u001b[0msum\u001b[0m\u001b[0;34m(\u001b[0m\u001b[0mdiff_squared\u001b[0m\u001b[0;34m,\u001b[0m \u001b[0maxis\u001b[0m\u001b[0;34m=\u001b[0m\u001b[0;34m(\u001b[0m\u001b[0;36m2\u001b[0m\u001b[0;34m,\u001b[0m\u001b[0;36m3\u001b[0m\u001b[0;34m,\u001b[0m\u001b[0;36m4\u001b[0m\u001b[0;34m)\u001b[0m\u001b[0;34m)\u001b[0m\u001b[0;34m\u001b[0m\u001b[0;34m\u001b[0m\u001b[0m\n\u001b[1;32m     20\u001b[0m   \u001b[0ma_sq_sum\u001b[0m \u001b[0;34m=\u001b[0m \u001b[0mnp\u001b[0m\u001b[0;34m.\u001b[0m\u001b[0msum\u001b[0m\u001b[0;34m(\u001b[0m\u001b[0mnp\u001b[0m\u001b[0;34m.\u001b[0m\u001b[0msquare\u001b[0m\u001b[0;34m(\u001b[0m\u001b[0ma\u001b[0m\u001b[0;34m)\u001b[0m\u001b[0;34m,\u001b[0m \u001b[0maxis\u001b[0m\u001b[0;34m=\u001b[0m\u001b[0;34m(\u001b[0m\u001b[0;36m1\u001b[0m\u001b[0;34m,\u001b[0m\u001b[0;36m2\u001b[0m\u001b[0;34m,\u001b[0m\u001b[0;36m3\u001b[0m\u001b[0;34m)\u001b[0m\u001b[0;34m)\u001b[0m\u001b[0;34m\u001b[0m\u001b[0;34m\u001b[0m\u001b[0m\n",
      "\u001b[0;31mMemoryError\u001b[0m: Unable to allocate 129. GiB for an array with shape (152, 152, 500, 500, 3) and data type float64"
     ]
    }
   ],
   "source": [
    "for breed in sorted(os.listdir(images_folder)):\n",
    "  breed_imgs = np.zeros((len(os.listdir(os.path.join(images_folder, breed))), 500, 500, 3))\n",
    "  i = 0\n",
    "  for dog in sorted(os.listdir(os.path.join(images_folder, breed))):\n",
    "    img = np.array(imageio.imread(os.path.join(images_folder, breed, dog)))\n",
    "    breed_imgs[i] = np.array(resize(img, (500,500,3)))\n",
    "    i += 1\n",
    "  # intra_breed_error[breed] = calc_diff_intra_breed(breed_imgs) \n",
    "  intra_breed_error[breed] = calc_diff_numpy_intra_breed(breed_imgs)\n",
    "  error_values = intra_breed_error[breed][np.triu_indices(intra_breed_error[breed].shape[0], k = 0)]\n",
    "  fig, ax = plt.subplots()\n",
    "  ax.boxplot(error_values, 0, 'x', 0)\n",
    "  ax.set_title(breed)\n",
    "  plt.savefig(os.path.join(code_folder, '../../tmp/', 'Error_plots', breed + '.png'))\n",
    "  plt.close()\n",
    "  breed_error_mean_values.append(intra_breed_error[breed].mean())\n",
    "\n",
    "fig, ax = plt.subplots()\n",
    "ax.boxplot(breed_error_mean_values, 0, 'x', 0)\n",
    "ax.set_title(\"Average Error Values\")\n",
    "plt.savefig(code_folder, '../../tmp/', 'Error_plots','avgError.png')\n",
    "plt.close()"
   ]
  }
 ],
 "metadata": {
  "interpreter": {
   "hash": "fc220bf6cec4a16a2408ccd540a114815ef62864d6b05b4507eaf9409d715d02"
  },
  "kernelspec": {
   "display_name": "Python 3.7.11 ('ml_project')",
   "language": "python",
   "name": "python3"
  },
  "language_info": {
   "codemirror_mode": {
    "name": "ipython",
    "version": 3
   },
   "file_extension": ".py",
   "mimetype": "text/x-python",
   "name": "python",
   "nbconvert_exporter": "python",
   "pygments_lexer": "ipython3",
   "version": "3.7.11"
  },
  "orig_nbformat": 4
 },
 "nbformat": 4,
 "nbformat_minor": 2
}
