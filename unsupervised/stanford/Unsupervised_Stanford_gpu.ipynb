{
 "cells": [
  {
   "cell_type": "code",
   "execution_count": null,
   "metadata": {},
   "outputs": [],
   "source": [
    "import os\n",
    "import torch\n",
    "# import cv2\n",
    "import numpy as np\n",
    "from torchvision import datasets, transforms\n",
    "from torch.utils.data import DataLoader\n",
    "from kornia.feature import DenseSIFTDescriptor, SIFTDescriptor\n",
    "from kmeans_pytorch import kmeans\n",
    "from sklearn.cluster import KMeans"
   ]
  },
  {
   "cell_type": "code",
   "execution_count": null,
   "metadata": {},
   "outputs": [],
   "source": [
    "print(torch.cuda.is_available())\n",
    "device = torch.device('cuda:0')\n",
    "print(torch.cuda.get_device_name())"
   ]
  },
  {
   "cell_type": "code",
   "execution_count": null,
   "metadata": {},
   "outputs": [],
   "source": [
    "code_folder = os.getcwd()\n",
    "annotation_folder = os.path.join(code_folder,'../../dataset/Stanford/Annotation')\n",
    "images_folder = os.path.join(code_folder,'../../dataset/Stanford/Images')"
   ]
  },
  {
   "cell_type": "code",
   "execution_count": null,
   "metadata": {},
   "outputs": [],
   "source": [
    "transform = transforms.Compose([transforms.Resize((255,255)), transforms.Grayscale(num_output_channels=1), transforms.ToTensor()])\n",
    "dataset = datasets.ImageFolder(images_folder, transform=transform)"
   ]
  },
  {
   "cell_type": "code",
   "execution_count": null,
   "metadata": {},
   "outputs": [],
   "source": [
    "dataloader = DataLoader(dataset, batch_size=32, shuffle=False)"
   ]
  },
  {
   "cell_type": "code",
   "execution_count": null,
   "metadata": {},
   "outputs": [],
   "source": [
    "descs = None\n",
    "labels_all = None\n",
    "for images, labels in dataloader:\n",
    "    SIFT = SIFTDescriptor(patch_size=255)\n",
    "    desc = SIFT(images)\n",
    "    desc = desc.to(device=device)\n",
    "    labels = labels.to(device=device)\n",
    "    if descs is None:\n",
    "        descs = desc\n",
    "        labels_all = labels\n",
    "    else:\n",
    "        descs = torch.cat((descs, desc))\n",
    "        labels_all = torch.cat((labels_all, labels))\n",
    "print(descs.shape)"
   ]
  },
  {
   "cell_type": "code",
   "execution_count": null,
   "metadata": {},
   "outputs": [],
   "source": [
    "for cluster in range(10):\n",
    "    cluster_ids_x, cluster_centers = kmeans(X=descs, num_clusters=3, distance='euclidean', device=device)\n",
    "    cluster_ids_x = cluster_ids_x.to(device=device)\n",
    "    diff = torch.abs(cluster_ids_x - labels_all)\n",
    "    diff[diff == 2] = 1\n",
    "    error_rate = diff.sum() / diff.shape[0]\n",
    "    accuracy = 1 - error_rate\n",
    "    print(cluster)\n",
    "    print(accuracy)"
   ]
  },
  {
   "cell_type": "code",
   "execution_count": null,
   "metadata": {},
   "outputs": [],
   "source": [
    "descs_numpy = descs.cpu().detach().numpy()\n",
    "kmeans = KMeans(n_clusters=3).fit(descs_numpy)\n",
    "results_torch = torch.from_numpy(kmeans.labels_).to(device)\n",
    "diff = torch.abs(results_torch - labels_all)\n",
    "diff[diff == 2] = 1\n",
    "error_rate = diff.sum() / diff.shape[0]\n",
    "accuracy = 1 - error_rate\n",
    "print(accuracy)"
   ]
  }
 ],
 "metadata": {
  "interpreter": {
   "hash": "902a05457d3757dfa5a75108bf6e8d2dfc642414f81123e8f2087e079fcef00f"
  },
  "kernelspec": {
   "display_name": "Python 3.7.11 ('ml_project')",
   "language": "python",
   "name": "python3"
  },
  "language_info": {
   "codemirror_mode": {
    "name": "ipython",
    "version": 3
   },
   "file_extension": ".py",
   "mimetype": "text/x-python",
   "name": "python",
   "nbconvert_exporter": "python",
   "pygments_lexer": "ipython3",
   "version": "3.9.11"
  },
  "orig_nbformat": 4
 },
 "nbformat": 4,
 "nbformat_minor": 2
}
