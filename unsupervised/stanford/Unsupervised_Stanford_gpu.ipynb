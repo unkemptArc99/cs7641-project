{
 "cells": [
  {
   "cell_type": "code",
   "execution_count": 1,
   "metadata": {},
   "outputs": [
    {
     "name": "stderr",
     "output_type": "stream",
     "text": [
      "/home/abhishek/anaconda3/envs/ml_project/lib/python3.7/site-packages/ipykernel_launcher.py:1: DeprecationWarning: PILLOW_VERSION is deprecated and will be removed in a future release. Use __version__ instead.\n",
      "  \"\"\"Entry point for launching an IPython kernel.\n"
     ]
    }
   ],
   "source": [
    "from PIL import PILLOW_VERSION"
   ]
  },
  {
   "cell_type": "code",
   "execution_count": 2,
   "metadata": {},
   "outputs": [],
   "source": [
    "import os\n",
    "import torch\n",
    "from torchvision import datasets, transforms\n",
    "from torch.utils.data import DataLoader"
   ]
  },
  {
   "cell_type": "code",
   "execution_count": 3,
   "metadata": {},
   "outputs": [],
   "source": [
    "code_folder = os.getcwd()\n",
    "annotation_folder = os.path.join(code_folder,'../../dataset/Stanford/Annotation')\n",
    "images_folder = os.path.join(code_folder,'../../dataset/Stanford/Images')"
   ]
  },
  {
   "cell_type": "code",
   "execution_count": 4,
   "metadata": {},
   "outputs": [],
   "source": [
    "transform = transforms.Compose([transforms.Resize((255,255)), transforms.ToTensor()])\n",
    "dataset = datasets.ImageFolder(images_folder, transform=transform)"
   ]
  },
  {
   "cell_type": "code",
   "execution_count": 5,
   "metadata": {},
   "outputs": [],
   "source": [
    "dataloader = DataLoader(dataset, batch_size=32, shuffle=False)"
   ]
  },
  {
   "cell_type": "code",
   "execution_count": 8,
   "metadata": {},
   "outputs": [
    {
     "name": "stdout",
     "output_type": "stream",
     "text": [
      "torch.Size([3, 255, 255])\n",
      "torch.Size([3, 255, 255])\n",
      "torch.Size([3, 255, 255])\n",
      "torch.Size([3, 255, 255])\n",
      "torch.Size([3, 255, 255])\n",
      "torch.Size([3, 255, 255])\n",
      "torch.Size([3, 255, 255])\n",
      "torch.Size([3, 255, 255])\n",
      "torch.Size([3, 255, 255])\n",
      "torch.Size([3, 255, 255])\n",
      "torch.Size([3, 255, 255])\n",
      "torch.Size([3, 255, 255])\n",
      "torch.Size([3, 255, 255])\n",
      "torch.Size([3, 255, 255])\n",
      "torch.Size([3, 255, 255])\n",
      "torch.Size([3, 255, 255])\n",
      "torch.Size([3, 255, 255])\n",
      "torch.Size([3, 255, 255])\n",
      "torch.Size([3, 255, 255])\n"
     ]
    }
   ],
   "source": [
    "with open(os.path.join(code_folder, '../../dataset/label.txt'), 'w') as f:\n",
    "  for images, labels in dataloader:\n",
    "    f.write(str(images))\n",
    "    print(images[0].shape)"
   ]
  }
 ],
 "metadata": {
  "interpreter": {
   "hash": "902a05457d3757dfa5a75108bf6e8d2dfc642414f81123e8f2087e079fcef00f"
  },
  "kernelspec": {
   "display_name": "Python 3.7.11 ('ml_project')",
   "language": "python",
   "name": "python3"
  },
  "language_info": {
   "codemirror_mode": {
    "name": "ipython",
    "version": 3
   },
   "file_extension": ".py",
   "mimetype": "text/x-python",
   "name": "python",
   "nbconvert_exporter": "python",
   "pygments_lexer": "ipython3",
   "version": "3.7.11"
  },
  "orig_nbformat": 4
 },
 "nbformat": 4,
 "nbformat_minor": 2
}
