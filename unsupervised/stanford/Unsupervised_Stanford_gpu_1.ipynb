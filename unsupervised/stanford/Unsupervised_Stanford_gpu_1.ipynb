{
 "cells": [
  {
   "cell_type": "code",
   "execution_count": 1,
   "metadata": {},
   "outputs": [],
   "source": [
    "import os\n",
    "import torch\n",
    "# import cv2\n",
    "import numpy as np\n",
    "from torchvision import datasets, transforms\n",
    "from torch.utils.data import DataLoader\n",
    "from kornia.feature import DenseSIFTDescriptor, SIFTDescriptor\n",
    "from kmeans_pytorch import kmeans\n",
    "from sklearn.cluster import KMeans\n",
    "from matplotlib import pyplot as plt"
   ]
  },
  {
   "cell_type": "code",
   "execution_count": 2,
   "metadata": {},
   "outputs": [
    {
     "name": "stdout",
     "output_type": "stream",
     "text": [
      "True\n",
      "NVIDIA GeForce RTX 3050 Ti Laptop GPU\n"
     ]
    }
   ],
   "source": [
    "print(torch.cuda.is_available())\n",
    "device = torch.device('cuda:0')\n",
    "print(torch.cuda.get_device_name())"
   ]
  },
  {
   "cell_type": "code",
   "execution_count": 4,
   "metadata": {},
   "outputs": [],
   "source": [
    "code_folder = os.getcwd()\n",
    "annotation_folder = os.path.join(code_folder,'../../dataset/Stanford/Annotation')\n",
    "images_folder = os.path.join(code_folder,'../../dataset/Stanford/Images')"
   ]
  },
  {
   "cell_type": "code",
   "execution_count": 5,
   "metadata": {},
   "outputs": [],
   "source": [
    "transform = transforms.Compose([transforms.Resize((255,255)), transforms.Grayscale(num_output_channels=1), transforms.ToTensor()])\n",
    "dataset = datasets.ImageFolder(images_folder, transform=transform)"
   ]
  },
  {
   "cell_type": "code",
   "execution_count": 6,
   "metadata": {},
   "outputs": [],
   "source": [
    "dataloader = DataLoader(dataset, batch_size=32, shuffle=False)"
   ]
  },
  {
   "cell_type": "code",
   "execution_count": 7,
   "metadata": {},
   "outputs": [
    {
     "ename": "Error",
     "evalue": "Canceled future for execute_request message before replies were done",
     "output_type": "error",
     "traceback": [
      "Error: Canceled future for execute_request message before replies were done",
      "at t.KernelShellFutureHandler.dispose (/home/abhishek/.vscode/extensions/ms-toolsai.jupyter-2022.3.1000901801/out/extension.js:2:1204175)",
      "at /home/abhishek/.vscode/extensions/ms-toolsai.jupyter-2022.3.1000901801/out/extension.js:2:1223227",
      "at Map.forEach (<anonymous>)",
      "at v._clearKernelState (/home/abhishek/.vscode/extensions/ms-toolsai.jupyter-2022.3.1000901801/out/extension.js:2:1223212)",
      "at v.dispose (/home/abhishek/.vscode/extensions/ms-toolsai.jupyter-2022.3.1000901801/out/extension.js:2:1216694)",
      "at /home/abhishek/.vscode/extensions/ms-toolsai.jupyter-2022.3.1000901801/out/extension.js:2:533674",
      "at t.swallowExceptions (/home/abhishek/.vscode/extensions/ms-toolsai.jupyter-2022.3.1000901801/out/extension.js:2:913059)",
      "at dispose (/home/abhishek/.vscode/extensions/ms-toolsai.jupyter-2022.3.1000901801/out/extension.js:2:533652)",
      "at t.RawSession.dispose (/home/abhishek/.vscode/extensions/ms-toolsai.jupyter-2022.3.1000901801/out/extension.js:2:537330)",
      "at runMicrotasks (<anonymous>)",
      "at processTicksAndRejections (node:internal/process/task_queues:96:5)"
     ]
    }
   ],
   "source": [
    "descs = None\n",
    "labels_all = None\n",
    "for images, labels in dataloader:\n",
    "    SIFT = SIFTDescriptor(patch_size=255)\n",
    "    desc = SIFT(images)\n",
    "    desc = desc.to(device=device)\n",
    "    labels = labels.to(device=device)\n",
    "    if descs is None:\n",
    "        descs = desc\n",
    "        labels_all = labels\n",
    "    else:\n",
    "        descs = torch.cat((descs, desc))\n",
    "        labels_all = torch.cat((labels_all, labels))\n",
    "print(descs.shape)"
   ]
  },
  {
   "cell_type": "code",
   "execution_count": 7,
   "metadata": {},
   "outputs": [
    {
     "name": "stdout",
     "output_type": "stream",
     "text": [
      "running k-means on cuda:0..\n"
     ]
    },
    {
     "name": "stderr",
     "output_type": "stream",
     "text": [
      "[running kmeans]: 9it [00:00, 279.54it/s, center_shift=0.000079, iteration=9, tol=0.000100]\n"
     ]
    },
    {
     "name": "stdout",
     "output_type": "stream",
     "text": [
      "0\n",
      "tensor(0.4075, device='cuda:0')\n",
      "running k-means on cuda:0..\n"
     ]
    },
    {
     "name": "stderr",
     "output_type": "stream",
     "text": [
      "[running kmeans]: 9it [00:00, 417.79it/s, center_shift=0.000030, iteration=9, tol=0.000100]\n"
     ]
    },
    {
     "name": "stdout",
     "output_type": "stream",
     "text": [
      "1\n",
      "tensor(0.4329, device='cuda:0')\n",
      "running k-means on cuda:0..\n"
     ]
    },
    {
     "name": "stderr",
     "output_type": "stream",
     "text": [
      "[running kmeans]: 13it [00:00, 366.03it/s, center_shift=0.000040, iteration=13, tol=0.000100]\n"
     ]
    },
    {
     "name": "stdout",
     "output_type": "stream",
     "text": [
      "2\n",
      "tensor(0.4194, device='cuda:0')\n",
      "running k-means on cuda:0..\n"
     ]
    },
    {
     "name": "stderr",
     "output_type": "stream",
     "text": [
      "[running kmeans]: 9it [00:00, 446.60it/s, center_shift=0.000020, iteration=9, tol=0.000100]"
     ]
    },
    {
     "name": "stdout",
     "output_type": "stream",
     "text": [
      "3\n"
     ]
    },
    {
     "name": "stderr",
     "output_type": "stream",
     "text": [
      "\n"
     ]
    },
    {
     "name": "stdout",
     "output_type": "stream",
     "text": [
      "tensor(0.2649, device='cuda:0')\n",
      "running k-means on cuda:0..\n"
     ]
    },
    {
     "name": "stderr",
     "output_type": "stream",
     "text": [
      "[running kmeans]: 9it [00:00, 358.52it/s, center_shift=0.000082, iteration=9, tol=0.000100]\n"
     ]
    },
    {
     "name": "stdout",
     "output_type": "stream",
     "text": [
      "4\n",
      "tensor(0.2784, device='cuda:0')\n",
      "running k-means on cuda:0..\n"
     ]
    },
    {
     "name": "stderr",
     "output_type": "stream",
     "text": [
      "[running kmeans]: 10it [00:00, 406.17it/s, center_shift=0.000037, iteration=10, tol=0.000100]\n"
     ]
    },
    {
     "name": "stdout",
     "output_type": "stream",
     "text": [
      "5\n",
      "tensor(0.2818, device='cuda:0')\n",
      "running k-means on cuda:0..\n"
     ]
    },
    {
     "name": "stderr",
     "output_type": "stream",
     "text": [
      "[running kmeans]: 12it [00:00, 382.17it/s, center_shift=0.000040, iteration=12, tol=0.000100]\n"
     ]
    },
    {
     "name": "stdout",
     "output_type": "stream",
     "text": [
      "6\n",
      "tensor(0.2818, device='cuda:0')\n",
      "running k-means on cuda:0..\n"
     ]
    },
    {
     "name": "stderr",
     "output_type": "stream",
     "text": [
      "[running kmeans]: 8it [00:00, 322.59it/s, center_shift=0.000014, iteration=8, tol=0.000100]\n"
     ]
    },
    {
     "name": "stdout",
     "output_type": "stream",
     "text": [
      "7\n",
      "tensor(0.4211, device='cuda:0')\n",
      "running k-means on cuda:0..\n"
     ]
    },
    {
     "name": "stderr",
     "output_type": "stream",
     "text": [
      "[running kmeans]: 15it [00:00, 234.83it/s, center_shift=0.000081, iteration=15, tol=0.000100]\n"
     ]
    },
    {
     "name": "stdout",
     "output_type": "stream",
     "text": [
      "8\n",
      "tensor(0.2445, device='cuda:0')\n",
      "running k-means on cuda:0..\n"
     ]
    },
    {
     "name": "stderr",
     "output_type": "stream",
     "text": [
      "[running kmeans]: 7it [00:00, 271.05it/s, center_shift=0.000088, iteration=7, tol=0.000100]\n"
     ]
    },
    {
     "name": "stdout",
     "output_type": "stream",
     "text": [
      "9\n",
      "tensor(0.3379, device='cuda:0')\n"
     ]
    }
   ],
   "source": [
    "for cluster in range(10):\n",
    "    cluster_ids_x, cluster_centers = kmeans(X=descs, num_clusters=3, distance='euclidean', device=device)\n",
    "    cluster_ids_x = cluster_ids_x.to(device=device)\n",
    "    diff = torch.abs(cluster_ids_x - labels_all)\n",
    "    diff[diff == 2] = 1\n",
    "    error_rate = diff.sum() / diff.shape[0]\n",
    "    accuracy = 1 - error_rate\n",
    "    print(cluster)\n",
    "    print(accuracy)"
   ]
  },
  {
   "cell_type": "code",
   "execution_count": 29,
   "metadata": {},
   "outputs": [
    {
     "data": {
      "image/png": "[encoded data removed]",
      "text/plain": [
       "<Figure size 432x288 with 1 Axes>"
      ]
     },
     "metadata": {
      "needs_background": "light"
     },
     "output_type": "display_data"
    }
   ],
   "source": [
    "descs_numpy = descs.cpu().detach().numpy()\n",
    "accuracies = [0]*4\n",
    "for cluster in range(2,6):\n",
    "    kmeans_results = KMeans(n_clusters=cluster).fit(descs_numpy)\n",
    "    results_torch = torch.from_numpy(kmeans_results.labels_).to(device)\n",
    "    diff = torch.abs(results_torch - labels_all)\n",
    "    diff[diff != 0] = 1\n",
    "    error_rate = diff.sum() / diff.shape[0]\n",
    "    accuracies[cluster-2] = 1 - error_rate.item()\n",
    "plt.plot(np.arange(2,6,1), accuracies)\n",
    "plt.xlabel('Number of Clusters')\n",
    "plt.ylabel('Accuracy (max val: 1)')\n",
    "plt.title('Accuracy of 3 breeds clustering through SIFT (gray-scaled) and KMeans')\n",
    "plt.show()"
   ]
  },
  {
   "cell_type": "code",
   "execution_count": null,
   "metadata": {},
   "outputs": [],
   "source": []
  }
 ],
 "metadata": {
  "interpreter": {
   "hash": "902a05457d3757dfa5a75108bf6e8d2dfc642414f81123e8f2087e079fcef00f"
  },
  "kernelspec": {
   "display_name": "Python 3.7.11 ('ml_project')",
   "language": "python",
   "name": "python3"
  },
  "language_info": {
   "codemirror_mode": {
    "name": "ipython",
    "version": 3
   },
   "file_extension": ".py",
   "mimetype": "text/x-python",
   "name": "python",
   "nbconvert_exporter": "python",
   "pygments_lexer": "ipython3",
   "version": "3.9.11"
  },
  "orig_nbformat": 4
 },
 "nbformat": 4,
 "nbformat_minor": 2
}
