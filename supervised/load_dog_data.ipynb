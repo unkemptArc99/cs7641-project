{
 "cells": [
  {
   "cell_type": "code",
   "execution_count": 34,
   "metadata": {},
   "outputs": [],
   "source": [
    "import numpy as np\n",
    "from numpy import asarray\n",
    "import os\n",
    "import cv2\n",
    "import pandas as pd"
   ]
  },
  {
   "cell_type": "code",
   "execution_count": 35,
   "metadata": {},
   "outputs": [],
   "source": [
    "# data paths\n",
    "train_data_dir = r'C:\\Users\\prath\\Downloads\\Machine_Learning\\Dogs\\train'\n",
    "test_data_dir = r'C:\\Users\\prath\\Downloads\\Machine_Learning\\Dogs\\test'\n",
    "val_data_dir = r'C:\\Users\\prath\\Downloads\\Machine_Learning\\Dogs\\valid'\n",
    "csv_path = r'C:\\Users\\prath\\Downloads\\Machine_Learning\\Dogs\\dogs.csv'"
   ]
  },
  {
   "cell_type": "code",
   "execution_count": 36,
   "metadata": {},
   "outputs": [],
   "source": [
    "# create image path array for above dirs\n",
    "def create_image_path_array(path):\n",
    "    folder_paths = [path+'\\\\'+each for each in os.listdir(path)]\n",
    "#     print(len(folder_paths))\n",
    "    classes = [each for each in os.listdir(path)]\n",
    "#     print(classes)\n",
    "    image_paths = []\n",
    "    for folder in folder_paths:\n",
    "        image_paths = image_paths + [folder+'\\\\'+img for img in os.listdir(folder)]\n",
    "    return image_paths"
   ]
  },
  {
   "cell_type": "code",
   "execution_count": 37,
   "metadata": {},
   "outputs": [],
   "source": [
    "# create separate image path arrays for train, test, valid\n",
    "train_image_paths = create_image_path_array(train_data_dir)\n",
    "test_image_paths = create_image_path_array(test_data_dir)\n",
    "val_image_paths = create_image_path_array(val_data_dir)"
   ]
  },
  {
   "cell_type": "code",
   "execution_count": 38,
   "metadata": {},
   "outputs": [],
   "source": [
    "# one hot encoding given csv file with labels and test,train,valid marked\n",
    "def one_hot_encoding(csv_path):\n",
    "    df = pd.read_csv(csv_path)\n",
    "    one_hot = pd.get_dummies(df.labels)\n",
    "    class_names = pd.unique(df['labels'])\n",
    "    print(class_names)\n",
    "    df = df.drop('filepaths', axis = 1).drop('labels', axis = 1).join(one_hot)\n",
    "    ytrain = df[df['data set'] == 'train'].drop('data set', axis = 1).to_numpy()\n",
    "    ytest = df[df['data set'] == 'test'].drop('data set', axis = 1).to_numpy()\n",
    "    yval = df[df['data set'] == 'valid'].drop('data set', axis = 1).to_numpy()\n",
    "    return ytrain, ytest, yval, class_names"
   ]
  },
  {
   "cell_type": "code",
   "execution_count": 46,
   "metadata": {},
   "outputs": [
    {
     "name": "stdout",
     "output_type": "stream",
     "text": [
      "['Afghan' 'African Wild Dog' 'Airedale' 'American Hairless'\n",
      " 'American Spaniel' 'Basenji' 'Basset' 'Beagle' 'Bearded Collie'\n",
      " 'Bermaise' 'Bichon Frise' 'Blenheim' 'Bloodhound' 'Bluetick'\n",
      " 'Border Collie' 'Borzoi' 'Boston Terrier' 'Boxer' 'Bull Mastiff'\n",
      " 'Bull Terrier' 'Bulldog' 'Cairn' 'Chihuahua' 'Chinese Crested' 'Chow'\n",
      " 'Clumber' 'Cockapoo' 'Cocker' 'Collie' 'Corgi' 'Coyote' 'Dalmation'\n",
      " 'Dhole' 'Dingo' 'Doberman' 'Elk Hound' 'French Bulldog' 'German Sheperd'\n",
      " 'Golden Retriever' 'Great Dane' 'Great Perenees' 'Greyhound'\n",
      " 'Groenendael' 'Irish Spaniel' 'Irish Wolfhound' 'Japanese Spaniel'\n",
      " 'Komondor' 'Labradoodle' 'Labrador' 'Lhasa' 'Malinois' 'Maltese'\n",
      " 'Mex Hairless' 'Newfoundland' 'Pekinese' 'Pit Bull' 'Pomeranian' 'Poodle'\n",
      " 'Pug' 'Rhodesian' 'Rottweiler' 'Saint Bernard' 'Schnauzer'\n",
      " 'Scotch Terrier' 'Shar_Pei' 'Shiba Inu' 'Shih-Tzu' 'Siberian Husky'\n",
      " 'Vizsla' 'Yorkie']\n"
     ]
    }
   ],
   "source": [
    "ytrain, ytest, yval, class_names = one_hot_encoding(csv_path)\n",
    "ytrain = np.vstack((ytrain, yval))\n",
    "df = pd.DataFrame(class_names)\n",
    "# df.to_csv(r'C:\\Users\\prath\\Downloads\\Machine_Learning\\Dogs\\classification_report.csv', mode='a', index=False, header=False)"
   ]
  },
  {
   "cell_type": "code",
   "execution_count": 40,
   "metadata": {},
   "outputs": [],
   "source": [
    "def image_processing(image_path_array, y):\n",
    "    x = []\n",
    "    yout = []\n",
    "    for i,image in enumerate(image_path_array):\n",
    "        img = cv2.imread(image, cv2.IMREAD_COLOR)\n",
    "        scale_down = 0.4\n",
    "        img = cv2.resize(img, None, fx= scale_down, fy= scale_down, interpolation= cv2.INTER_LINEAR)\n",
    "        x.append(img)\n",
    "#         randomize augmentations(maybe use another loop outside this one)\n",
    "#         add augmentations here\n",
    "#         create 1 hot labels for them\n",
    "    return x,yout"
   ]
  },
  {
   "cell_type": "code",
   "execution_count": 41,
   "metadata": {},
   "outputs": [
    {
     "data": {
      "text/plain": [
       "(8646, 90, 90, 3)"
      ]
     },
     "execution_count": 41,
     "metadata": {},
     "output_type": "execute_result"
    }
   ],
   "source": [
    "xtrain, ytrain = np.array(image_processing(train_image_paths, ytrain))\n",
    "xtest,ytest = np.array(image_processing(test_image_paths, ytest)).astype('uint8')\n",
    "xval,yval = np.array(image_processing(val_image_paths, yval))\n",
    "xtrain = np.vstack((xtrain, xval)).astype('uint8')\n",
    "np.shape(xtrain)"
   ]
  },
  {
   "cell_type": "code",
   "execution_count": 42,
   "metadata": {},
   "outputs": [],
   "source": [
    "# saving this as an npz file just in case image processing takes too long to run\n",
    "np.savez_compressed('Dogs_npz', xtrain, ytrain, xtest, ytest)"
   ]
  },
  {
   "cell_type": "code",
   "execution_count": null,
   "metadata": {},
   "outputs": [],
   "source": []
  }
 ],
 "metadata": {
  "kernelspec": {
   "display_name": "Python 3",
   "language": "python",
   "name": "python3"
  },
  "language_info": {
   "codemirror_mode": {
    "name": "ipython",
    "version": 3
   },
   "file_extension": ".py",
   "mimetype": "text/x-python",
   "name": "python",
   "nbconvert_exporter": "python",
   "pygments_lexer": "ipython3",
   "version": "3.7.9"
  }
 },
 "nbformat": 4,
 "nbformat_minor": 4
}
