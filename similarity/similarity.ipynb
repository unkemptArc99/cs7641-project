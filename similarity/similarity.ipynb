{
 "cells": [
  {
   "cell_type": "code",
   "execution_count": null,
   "metadata": {},
   "outputs": [],
   "source": [
    "import numpy as np\n",
    "import os\n",
    "from PIL import Image\n",
    "from numpy import asarray\n",
    "from numpy import dot\n",
    "from numpy.linalg import norm\n",
    "\n",
    "def euclidean_distance(A, B):\n",
    "    return np.linalg.norm(A - B)\n",
    "\n",
    "def cos_sim(A, B):\n",
    "  return dot(A, B)/(norm(A)*norm(B))\n",
    "\n",
    "#print('cos_sim: np_img, np_img2 :',cos_sim(np_img, np_img2))\n",
    "#print('euclidiean_distance: np_img, np_img2 :',euclidean_distance(np_img, np_img2))\n"
   ]
  }
 ],
 "metadata": {
  "language_info": {
   "name": "python"
  },
  "orig_nbformat": 4
 },
 "nbformat": 4,
 "nbformat_minor": 2
}
